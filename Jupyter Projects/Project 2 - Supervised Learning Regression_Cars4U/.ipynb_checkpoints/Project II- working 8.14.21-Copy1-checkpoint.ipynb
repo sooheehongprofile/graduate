{
 "cells": [
  {
   "cell_type": "markdown",
   "id": "700d3ee5",
   "metadata": {},
   "source": [
    "# Background\n",
    "\n",
    "There is a huge demand for used cars in the Indian Market today. As sales of new cars have slowed down in the recent past, the pre-owned car market has continued to grow over the past years and is larger than the new car market now. Cars4U is a budding tech start-up that aims to find footholes in this market.\n",
    "\n",
    "In 2018-19, while new car sales were recorded at 3.6 million units, around 4 million second-hand cars were bought and sold. There is a slowdown in new car sales and that could mean that the demand is shifting towards the pre-owned market. In fact, some car sellers replace their old cars with pre-owned cars instead of buying new ones. Unlike new cars, where price and supply are fairly deterministic and managed by OEMs (Original Equipment Manufacturer), used cars are very different beasts with huge uncertainty in both pricing and supply."
   ]
  },
  {
   "cell_type": "markdown",
   "id": "c884f418",
   "metadata": {},
   "source": [
    "# Objectives\n",
    "\n",
    "To explore and visualize the dataset, build a linear regression model to predict the prices of used cars, and generate a set of insights and recommendations that will help the business."
   ]
  },
  {
   "cell_type": "markdown",
   "id": "9a348218",
   "metadata": {},
   "source": [
    "# Problems\n",
    "\n",
    "Build a pricing model that can effectively predict the price of used cars and can help the business in devising profitable strategies using differential pricing. "
   ]
  },
  {
   "cell_type": "markdown",
   "id": "de2ae0df",
   "metadata": {},
   "source": [
    "# Key Questions\n",
    "- ///\n",
    "- ///\n",
    "- ///"
   ]
  },
  {
   "cell_type": "markdown",
   "id": "f4224e3e",
   "metadata": {},
   "source": [
    "# Data Description\n",
    "\n",
    "The detailed data dictionary is given below.\n",
    "\n",
    "Data Dictionary\n",
    "\n",
    "- S.No.: Serial number\n",
    "- Name: Name of the car which includes brand name and model name\n",
    "- Location: Location in which the car is being sold or is available for purchase (cities)\n",
    "- Year: Manufacturing year of the car\n",
    "- Kilometers_driven: The total kilometers driven in the car by the previous owner(s) in km\n",
    "- Fuel_Type: The type of fuel used by the car (Petrol, Diesel, Electric, CNG, LPG)\n",
    "- Transmission: The type of transmission used by the car (Automatic/Manual)\n",
    "- Owner: Type of ownership\n",
    "- Mileage: The standard mileage offered by the car company in kmpl or km/kg\n",
    "- Engine: The displacement volume of the engine in CC\n",
    "- Power: The maximum power of the engine in bhp\n",
    "- Seats: The number of seats in the car\n",
    "- New_Price: The price of a new car of the same model in INR Lakhs (1 Lakh INR = 100,000 INR)\n",
    "- Price: The price of the used car in INR Lakhs"
   ]
  },
  {
   "cell_type": "markdown",
   "id": "19af2fd0",
   "metadata": {},
   "source": [
    "### Import necessary libraries"
   ]
  },
  {
   "cell_type": "code",
   "execution_count": 3,
   "id": "61793269",
   "metadata": {},
   "outputs": [],
   "source": [
    "import warnings\n",
    "warnings.filterwarnings('ignore')\n",
    "\n",
    "import numpy as np\n",
    "import pandas as pd\n",
    "import seaborn as sns\n",
    "import matplotlib.pyplot as plt\n",
    "sns.set(color_codes = True)\n",
    "%matplotlib inline\n",
    "\n",
    "from sklearn.model_selection import train_test_split\n",
    "from sklearn.linear_model import LinearRegression\n",
    "from sklearn.metrics import mean_absolute_error, mean_squared_error, r2_score"
   ]
  },
  {
   "cell_type": "markdown",
   "id": "0ec49799",
   "metadata": {},
   "source": [
    "### Load dataset"
   ]
  },
  {
   "cell_type": "code",
   "execution_count": 4,
   "id": "45c4c986",
   "metadata": {
    "scrolled": false
   },
   "outputs": [
    {
     "data": {
      "text/html": [
       "<div>\n",
       "<style scoped>\n",
       "    .dataframe tbody tr th:only-of-type {\n",
       "        vertical-align: middle;\n",
       "    }\n",
       "\n",
       "    .dataframe tbody tr th {\n",
       "        vertical-align: top;\n",
       "    }\n",
       "\n",
       "    .dataframe thead th {\n",
       "        text-align: right;\n",
       "    }\n",
       "</style>\n",
       "<table border=\"1\" class=\"dataframe\">\n",
       "  <thead>\n",
       "    <tr style=\"text-align: right;\">\n",
       "      <th></th>\n",
       "      <th>S.No.</th>\n",
       "      <th>Name</th>\n",
       "      <th>Location</th>\n",
       "      <th>Year</th>\n",
       "      <th>Kilometers_Driven</th>\n",
       "      <th>Fuel_Type</th>\n",
       "      <th>Transmission</th>\n",
       "      <th>Owner_Type</th>\n",
       "      <th>Mileage</th>\n",
       "      <th>Engine</th>\n",
       "      <th>Power</th>\n",
       "      <th>Seats</th>\n",
       "      <th>New_Price</th>\n",
       "      <th>Price</th>\n",
       "    </tr>\n",
       "  </thead>\n",
       "  <tbody>\n",
       "    <tr>\n",
       "      <th>2397</th>\n",
       "      <td>2397</td>\n",
       "      <td>Ford EcoSport 1.5 Petrol Trend</td>\n",
       "      <td>Kolkata</td>\n",
       "      <td>2016</td>\n",
       "      <td>21460</td>\n",
       "      <td>Petrol</td>\n",
       "      <td>Manual</td>\n",
       "      <td>First</td>\n",
       "      <td>17.0 kmpl</td>\n",
       "      <td>1497 CC</td>\n",
       "      <td>121.36 bhp</td>\n",
       "      <td>5.0</td>\n",
       "      <td>9.47 Lakh</td>\n",
       "      <td>6.00</td>\n",
       "    </tr>\n",
       "    <tr>\n",
       "      <th>3777</th>\n",
       "      <td>3777</td>\n",
       "      <td>Maruti Wagon R VXI 1.2</td>\n",
       "      <td>Kochi</td>\n",
       "      <td>2015</td>\n",
       "      <td>49818</td>\n",
       "      <td>Petrol</td>\n",
       "      <td>Manual</td>\n",
       "      <td>First</td>\n",
       "      <td>21.5 kmpl</td>\n",
       "      <td>1197 CC</td>\n",
       "      <td>81.80 bhp</td>\n",
       "      <td>5.0</td>\n",
       "      <td>5.44 Lakh</td>\n",
       "      <td>4.11</td>\n",
       "    </tr>\n",
       "    <tr>\n",
       "      <th>4425</th>\n",
       "      <td>4425</td>\n",
       "      <td>Ford Endeavour 4x2 XLT</td>\n",
       "      <td>Hyderabad</td>\n",
       "      <td>2007</td>\n",
       "      <td>130000</td>\n",
       "      <td>Diesel</td>\n",
       "      <td>Manual</td>\n",
       "      <td>First</td>\n",
       "      <td>13.1 kmpl</td>\n",
       "      <td>2499 CC</td>\n",
       "      <td>141 bhp</td>\n",
       "      <td>7.0</td>\n",
       "      <td>NaN</td>\n",
       "      <td>6.00</td>\n",
       "    </tr>\n",
       "    <tr>\n",
       "      <th>3661</th>\n",
       "      <td>3661</td>\n",
       "      <td>Mercedes-Benz E-Class E250 CDI Avantgrade</td>\n",
       "      <td>Coimbatore</td>\n",
       "      <td>2016</td>\n",
       "      <td>39753</td>\n",
       "      <td>Diesel</td>\n",
       "      <td>Automatic</td>\n",
       "      <td>First</td>\n",
       "      <td>13.0 kmpl</td>\n",
       "      <td>2143 CC</td>\n",
       "      <td>201.1 bhp</td>\n",
       "      <td>5.0</td>\n",
       "      <td>NaN</td>\n",
       "      <td>35.28</td>\n",
       "    </tr>\n",
       "    <tr>\n",
       "      <th>4514</th>\n",
       "      <td>4514</td>\n",
       "      <td>Hyundai Xcent 1.2 Kappa AT SX Option</td>\n",
       "      <td>Kochi</td>\n",
       "      <td>2016</td>\n",
       "      <td>45560</td>\n",
       "      <td>Petrol</td>\n",
       "      <td>Automatic</td>\n",
       "      <td>First</td>\n",
       "      <td>16.9 kmpl</td>\n",
       "      <td>1197 CC</td>\n",
       "      <td>82 bhp</td>\n",
       "      <td>5.0</td>\n",
       "      <td>NaN</td>\n",
       "      <td>6.34</td>\n",
       "    </tr>\n",
       "    <tr>\n",
       "      <th>599</th>\n",
       "      <td>599</td>\n",
       "      <td>Toyota Innova Crysta 2.8 ZX AT</td>\n",
       "      <td>Coimbatore</td>\n",
       "      <td>2019</td>\n",
       "      <td>40674</td>\n",
       "      <td>Diesel</td>\n",
       "      <td>Automatic</td>\n",
       "      <td>First</td>\n",
       "      <td>11.36 kmpl</td>\n",
       "      <td>2755 CC</td>\n",
       "      <td>171.5 bhp</td>\n",
       "      <td>7.0</td>\n",
       "      <td>28.05 Lakh</td>\n",
       "      <td>24.82</td>\n",
       "    </tr>\n",
       "    <tr>\n",
       "      <th>186</th>\n",
       "      <td>186</td>\n",
       "      <td>Mercedes-Benz E-Class E250 CDI Avantgrade</td>\n",
       "      <td>Bangalore</td>\n",
       "      <td>2014</td>\n",
       "      <td>37382</td>\n",
       "      <td>Diesel</td>\n",
       "      <td>Automatic</td>\n",
       "      <td>First</td>\n",
       "      <td>13.0 kmpl</td>\n",
       "      <td>2143 CC</td>\n",
       "      <td>201.1 bhp</td>\n",
       "      <td>5.0</td>\n",
       "      <td>NaN</td>\n",
       "      <td>32.00</td>\n",
       "    </tr>\n",
       "    <tr>\n",
       "      <th>305</th>\n",
       "      <td>305</td>\n",
       "      <td>Audi A6 2011-2015 2.0 TDI Premium Plus</td>\n",
       "      <td>Kochi</td>\n",
       "      <td>2014</td>\n",
       "      <td>61726</td>\n",
       "      <td>Diesel</td>\n",
       "      <td>Automatic</td>\n",
       "      <td>First</td>\n",
       "      <td>17.68 kmpl</td>\n",
       "      <td>1968 CC</td>\n",
       "      <td>174.33 bhp</td>\n",
       "      <td>5.0</td>\n",
       "      <td>NaN</td>\n",
       "      <td>20.77</td>\n",
       "    </tr>\n",
       "    <tr>\n",
       "      <th>4582</th>\n",
       "      <td>4582</td>\n",
       "      <td>Hyundai i20 1.2 Magna</td>\n",
       "      <td>Kolkata</td>\n",
       "      <td>2011</td>\n",
       "      <td>36000</td>\n",
       "      <td>Petrol</td>\n",
       "      <td>Manual</td>\n",
       "      <td>First</td>\n",
       "      <td>18.5 kmpl</td>\n",
       "      <td>1197 CC</td>\n",
       "      <td>80 bhp</td>\n",
       "      <td>5.0</td>\n",
       "      <td>NaN</td>\n",
       "      <td>2.50</td>\n",
       "    </tr>\n",
       "    <tr>\n",
       "      <th>5434</th>\n",
       "      <td>5434</td>\n",
       "      <td>Honda WR-V Edge Edition i-VTEC S</td>\n",
       "      <td>Kochi</td>\n",
       "      <td>2019</td>\n",
       "      <td>13913</td>\n",
       "      <td>Petrol</td>\n",
       "      <td>Manual</td>\n",
       "      <td>First</td>\n",
       "      <td>17.5 kmpl</td>\n",
       "      <td>1199 CC</td>\n",
       "      <td>88.7 bhp</td>\n",
       "      <td>5.0</td>\n",
       "      <td>9.36 Lakh</td>\n",
       "      <td>8.20</td>\n",
       "    </tr>\n",
       "  </tbody>\n",
       "</table>\n",
       "</div>"
      ],
      "text/plain": [
       "      S.No.                                       Name    Location  Year  \\\n",
       "2397   2397             Ford EcoSport 1.5 Petrol Trend     Kolkata  2016   \n",
       "3777   3777                     Maruti Wagon R VXI 1.2       Kochi  2015   \n",
       "4425   4425                     Ford Endeavour 4x2 XLT   Hyderabad  2007   \n",
       "3661   3661  Mercedes-Benz E-Class E250 CDI Avantgrade  Coimbatore  2016   \n",
       "4514   4514       Hyundai Xcent 1.2 Kappa AT SX Option       Kochi  2016   \n",
       "599     599             Toyota Innova Crysta 2.8 ZX AT  Coimbatore  2019   \n",
       "186     186  Mercedes-Benz E-Class E250 CDI Avantgrade   Bangalore  2014   \n",
       "305     305     Audi A6 2011-2015 2.0 TDI Premium Plus       Kochi  2014   \n",
       "4582   4582                      Hyundai i20 1.2 Magna     Kolkata  2011   \n",
       "5434   5434           Honda WR-V Edge Edition i-VTEC S       Kochi  2019   \n",
       "\n",
       "      Kilometers_Driven Fuel_Type Transmission Owner_Type     Mileage  \\\n",
       "2397              21460    Petrol       Manual      First   17.0 kmpl   \n",
       "3777              49818    Petrol       Manual      First   21.5 kmpl   \n",
       "4425             130000    Diesel       Manual      First   13.1 kmpl   \n",
       "3661              39753    Diesel    Automatic      First   13.0 kmpl   \n",
       "4514              45560    Petrol    Automatic      First   16.9 kmpl   \n",
       "599               40674    Diesel    Automatic      First  11.36 kmpl   \n",
       "186               37382    Diesel    Automatic      First   13.0 kmpl   \n",
       "305               61726    Diesel    Automatic      First  17.68 kmpl   \n",
       "4582              36000    Petrol       Manual      First   18.5 kmpl   \n",
       "5434              13913    Petrol       Manual      First   17.5 kmpl   \n",
       "\n",
       "       Engine       Power  Seats   New_Price  Price  \n",
       "2397  1497 CC  121.36 bhp    5.0   9.47 Lakh   6.00  \n",
       "3777  1197 CC   81.80 bhp    5.0   5.44 Lakh   4.11  \n",
       "4425  2499 CC     141 bhp    7.0         NaN   6.00  \n",
       "3661  2143 CC   201.1 bhp    5.0         NaN  35.28  \n",
       "4514  1197 CC      82 bhp    5.0         NaN   6.34  \n",
       "599   2755 CC   171.5 bhp    7.0  28.05 Lakh  24.82  \n",
       "186   2143 CC   201.1 bhp    5.0         NaN  32.00  \n",
       "305   1968 CC  174.33 bhp    5.0         NaN  20.77  \n",
       "4582  1197 CC      80 bhp    5.0         NaN   2.50  \n",
       "5434  1199 CC    88.7 bhp    5.0   9.36 Lakh   8.20  "
      ]
     },
     "execution_count": 4,
     "metadata": {},
     "output_type": "execute_result"
    }
   ],
   "source": [
    "ucdata=pd.read_csv('used_cars_data.csv')\n",
    "ucdata.sample(n=10, random_state=1) #print 10 random dataset from ucdata"
   ]
  },
  {
   "cell_type": "markdown",
   "id": "4cc3e001",
   "metadata": {},
   "source": [
    "### Data shape"
   ]
  },
  {
   "cell_type": "code",
   "execution_count": 5,
   "id": "57b0521b",
   "metadata": {},
   "outputs": [
    {
     "data": {
      "text/plain": [
       "(7253, 14)"
      ]
     },
     "execution_count": 5,
     "metadata": {},
     "output_type": "execute_result"
    }
   ],
   "source": [
    "ucdata.shape"
   ]
  },
  {
   "cell_type": "markdown",
   "id": "4e31425b",
   "metadata": {},
   "source": [
    "There are 7253 rows and 14 columns "
   ]
  },
  {
   "cell_type": "markdown",
   "id": "632f6c99",
   "metadata": {},
   "source": [
    "### Data information"
   ]
  },
  {
   "cell_type": "code",
   "execution_count": 6,
   "id": "cacb49dc",
   "metadata": {},
   "outputs": [
    {
     "name": "stdout",
     "output_type": "stream",
     "text": [
      "<class 'pandas.core.frame.DataFrame'>\n",
      "RangeIndex: 7253 entries, 0 to 7252\n",
      "Data columns (total 14 columns):\n",
      " #   Column             Non-Null Count  Dtype  \n",
      "---  ------             --------------  -----  \n",
      " 0   S.No.              7253 non-null   int64  \n",
      " 1   Name               7253 non-null   object \n",
      " 2   Location           7253 non-null   object \n",
      " 3   Year               7253 non-null   int64  \n",
      " 4   Kilometers_Driven  7253 non-null   int64  \n",
      " 5   Fuel_Type          7253 non-null   object \n",
      " 6   Transmission       7253 non-null   object \n",
      " 7   Owner_Type         7253 non-null   object \n",
      " 8   Mileage            7251 non-null   object \n",
      " 9   Engine             7207 non-null   object \n",
      " 10  Power              7078 non-null   object \n",
      " 11  Seats              7200 non-null   float64\n",
      " 12  New_Price          1006 non-null   object \n",
      " 13  Price              6019 non-null   float64\n",
      "dtypes: float64(2), int64(3), object(9)\n",
      "memory usage: 793.4+ KB\n"
     ]
    }
   ],
   "source": [
    "ucdata.info()"
   ]
  },
  {
   "cell_type": "markdown",
   "id": "bc79bd7d",
   "metadata": {},
   "source": [
    "- Price and Seats data type is float\n",
    "- S.No., Year, Km_Driven's datatypes are int and rest of them are object"
   ]
  },
  {
   "cell_type": "markdown",
   "id": "ba843806",
   "metadata": {},
   "source": [
    "### Check if there are duplicate used car models"
   ]
  },
  {
   "cell_type": "code",
   "execution_count": 7,
   "id": "2ad416a2",
   "metadata": {},
   "outputs": [
    {
     "data": {
      "text/plain": [
       "5212"
      ]
     },
     "execution_count": 7,
     "metadata": {},
     "output_type": "execute_result"
    }
   ],
   "source": [
    "ucdata['Name'].duplicated().sum()"
   ]
  },
  {
   "cell_type": "markdown",
   "id": "656b0a12",
   "metadata": {},
   "source": [
    "There's 5212 of same used car models "
   ]
  },
  {
   "cell_type": "markdown",
   "id": "8379939f",
   "metadata": {},
   "source": [
    "### Print sum of null data in descending order"
   ]
  },
  {
   "cell_type": "code",
   "execution_count": 8,
   "id": "fee88925",
   "metadata": {
    "scrolled": false
   },
   "outputs": [
    {
     "data": {
      "text/plain": [
       "New_Price            6247\n",
       "Price                1234\n",
       "Power                 175\n",
       "Seats                  53\n",
       "Engine                 46\n",
       "Mileage                 2\n",
       "S.No.                   0\n",
       "Name                    0\n",
       "Location                0\n",
       "Year                    0\n",
       "Kilometers_Driven       0\n",
       "Fuel_Type               0\n",
       "Transmission            0\n",
       "Owner_Type              0\n",
       "dtype: int64"
      ]
     },
     "execution_count": 8,
     "metadata": {},
     "output_type": "execute_result"
    }
   ],
   "source": [
    "ucdata.isnull().sum().sort_values(ascending=False)"
   ]
  },
  {
   "cell_type": "markdown",
   "id": "8547b617",
   "metadata": {},
   "source": [
    "### Show the entire dataset's information"
   ]
  },
  {
   "cell_type": "code",
   "execution_count": 9,
   "id": "b722b54c",
   "metadata": {},
   "outputs": [
    {
     "data": {
      "text/html": [
       "<div>\n",
       "<style scoped>\n",
       "    .dataframe tbody tr th:only-of-type {\n",
       "        vertical-align: middle;\n",
       "    }\n",
       "\n",
       "    .dataframe tbody tr th {\n",
       "        vertical-align: top;\n",
       "    }\n",
       "\n",
       "    .dataframe thead th {\n",
       "        text-align: right;\n",
       "    }\n",
       "</style>\n",
       "<table border=\"1\" class=\"dataframe\">\n",
       "  <thead>\n",
       "    <tr style=\"text-align: right;\">\n",
       "      <th></th>\n",
       "      <th>count</th>\n",
       "      <th>mean</th>\n",
       "      <th>std</th>\n",
       "      <th>min</th>\n",
       "      <th>25%</th>\n",
       "      <th>50%</th>\n",
       "      <th>75%</th>\n",
       "      <th>max</th>\n",
       "    </tr>\n",
       "  </thead>\n",
       "  <tbody>\n",
       "    <tr>\n",
       "      <th>S.No.</th>\n",
       "      <td>7253.0</td>\n",
       "      <td>3626.000000</td>\n",
       "      <td>2093.905084</td>\n",
       "      <td>0.00</td>\n",
       "      <td>1813.0</td>\n",
       "      <td>3626.00</td>\n",
       "      <td>5439.00</td>\n",
       "      <td>7252.0</td>\n",
       "    </tr>\n",
       "    <tr>\n",
       "      <th>Year</th>\n",
       "      <td>7253.0</td>\n",
       "      <td>2013.365366</td>\n",
       "      <td>3.254421</td>\n",
       "      <td>1996.00</td>\n",
       "      <td>2011.0</td>\n",
       "      <td>2014.00</td>\n",
       "      <td>2016.00</td>\n",
       "      <td>2019.0</td>\n",
       "    </tr>\n",
       "    <tr>\n",
       "      <th>Kilometers_Driven</th>\n",
       "      <td>7253.0</td>\n",
       "      <td>58699.063146</td>\n",
       "      <td>84427.720583</td>\n",
       "      <td>171.00</td>\n",
       "      <td>34000.0</td>\n",
       "      <td>53416.00</td>\n",
       "      <td>73000.00</td>\n",
       "      <td>6500000.0</td>\n",
       "    </tr>\n",
       "    <tr>\n",
       "      <th>Seats</th>\n",
       "      <td>7200.0</td>\n",
       "      <td>5.279722</td>\n",
       "      <td>0.811660</td>\n",
       "      <td>0.00</td>\n",
       "      <td>5.0</td>\n",
       "      <td>5.00</td>\n",
       "      <td>5.00</td>\n",
       "      <td>10.0</td>\n",
       "    </tr>\n",
       "    <tr>\n",
       "      <th>Price</th>\n",
       "      <td>6019.0</td>\n",
       "      <td>9.479468</td>\n",
       "      <td>11.187917</td>\n",
       "      <td>0.44</td>\n",
       "      <td>3.5</td>\n",
       "      <td>5.64</td>\n",
       "      <td>9.95</td>\n",
       "      <td>160.0</td>\n",
       "    </tr>\n",
       "  </tbody>\n",
       "</table>\n",
       "</div>"
      ],
      "text/plain": [
       "                    count          mean           std      min      25%  \\\n",
       "S.No.              7253.0   3626.000000   2093.905084     0.00   1813.0   \n",
       "Year               7253.0   2013.365366      3.254421  1996.00   2011.0   \n",
       "Kilometers_Driven  7253.0  58699.063146  84427.720583   171.00  34000.0   \n",
       "Seats              7200.0      5.279722      0.811660     0.00      5.0   \n",
       "Price              6019.0      9.479468     11.187917     0.44      3.5   \n",
       "\n",
       "                        50%       75%        max  \n",
       "S.No.               3626.00   5439.00     7252.0  \n",
       "Year                2014.00   2016.00     2019.0  \n",
       "Kilometers_Driven  53416.00  73000.00  6500000.0  \n",
       "Seats                  5.00      5.00       10.0  \n",
       "Price                  5.64      9.95      160.0  "
      ]
     },
     "execution_count": 9,
     "metadata": {},
     "output_type": "execute_result"
    }
   ],
   "source": [
    "ucdata.describe().T"
   ]
  },
  {
   "cell_type": "markdown",
   "id": "11b87d3d",
   "metadata": {},
   "source": [
    "Instead of performing the Exploratory Data Analysis with the raw data, I'm going to cleanse the data first. So when performing EDA, it would show more adequate distribution because there would be no missing values, 'NaN' values etc and would be easier to see the outliers."
   ]
  },
  {
   "cell_type": "markdown",
   "id": "13829ea2",
   "metadata": {},
   "source": [
    "### Data pre-processing"
   ]
  },
  {
   "cell_type": "markdown",
   "id": "34f7fa02",
   "metadata": {},
   "source": [
    "##### Drop unnecessary columns"
   ]
  },
  {
   "cell_type": "code",
   "execution_count": 10,
   "id": "20d27899",
   "metadata": {},
   "outputs": [],
   "source": [
    "#Drop 'new_price' column because the null data is over 75% missing\n",
    "#Drop 'S.No' because it is unnecessary \n",
    "df=ucdata.drop(['New_Price','S.No.'], axis=1)"
   ]
  },
  {
   "cell_type": "markdown",
   "id": "5f98646b",
   "metadata": {},
   "source": [
    "##### Drop 'Engine' units"
   ]
  },
  {
   "cell_type": "code",
   "execution_count": 11,
   "id": "33ab1c74",
   "metadata": {},
   "outputs": [],
   "source": [
    "#Find avg for power and engine then impute null values with avg.\n",
    "def engine_to_num(Engine):\n",
    "\n",
    "    if isinstance(Engine, str):\n",
    "        return float(Engine.replace('CC','')) #If there's string value, drop unit 'CC' \n",
    "    else:\n",
    "        return np.nan #else replace with 'NaN'\n",
    "    \n",
    "df['Engine'] = df['Engine'].apply(engine_to_num) #Apply  above condition to column 'Engine' "
   ]
  },
  {
   "cell_type": "markdown",
   "id": "a8dc8ef6",
   "metadata": {},
   "source": [
    "##### Find median for 'Engine'"
   ]
  },
  {
   "cell_type": "code",
   "execution_count": 12,
   "id": "b23709c0",
   "metadata": {},
   "outputs": [
    {
     "data": {
      "text/plain": [
       "1493.0"
      ]
     },
     "execution_count": 12,
     "metadata": {},
     "output_type": "execute_result"
    }
   ],
   "source": [
    "df_engine_missing=df[df[\"Engine\"]!=0] #Create a new table with only non-zero rows\n",
    "df_engine_missing['Engine'].median() #Calculate median"
   ]
  },
  {
   "cell_type": "markdown",
   "id": "2d40a544",
   "metadata": {},
   "source": [
    "The median for 'Engine' data is 1493CC"
   ]
  },
  {
   "cell_type": "markdown",
   "id": "1fc0c36a",
   "metadata": {},
   "source": [
    "##### Replace null values with median: 1493CC "
   ]
  },
  {
   "cell_type": "code",
   "execution_count": 13,
   "id": "96874d76",
   "metadata": {},
   "outputs": [],
   "source": [
    "df['Engine'] = df['Engine'].fillna(df['Engine'].median()) #Fill null value with median"
   ]
  },
  {
   "cell_type": "markdown",
   "id": "ea2241cb",
   "metadata": {},
   "source": [
    "##### Drop 'Power' units"
   ]
  },
  {
   "cell_type": "code",
   "execution_count": 14,
   "id": "dca0ed14",
   "metadata": {
    "scrolled": false
   },
   "outputs": [],
   "source": [
    "#Power\n",
    "def power_to_num(Power):\n",
    "\n",
    "    if isinstance(Power, str):\n",
    "        return float(Power.replace('bhp','')) #If there's string value, drop unit 'bhp' \n",
    "    else:\n",
    "        return np.nan #else replace with 'NaN'\n",
    "\n",
    "df['Power'] = df['Power'].apply(power_to_num)   #Apply  above condition to column 'Power'  "
   ]
  },
  {
   "cell_type": "markdown",
   "id": "a9fdca99",
   "metadata": {},
   "source": [
    "##### Replace null values with median"
   ]
  },
  {
   "cell_type": "code",
   "execution_count": 15,
   "id": "17cb6b58",
   "metadata": {},
   "outputs": [],
   "source": [
    "#set power value with two decimals\n",
    "format_mapping = {'Power':'{:.2f}%'}\n",
    "\n",
    "\n",
    "df_power_missing=df[df[\"Power\"]!=0] #Create a new table with only non-zero rows\n",
    "df_power_missing['Power'].median() #Get median value\n",
    "\n",
    "#Replace null values with median \n",
    "df['Power'] = df['Power'].fillna(df['Power'].median())"
   ]
  },
  {
   "cell_type": "markdown",
   "id": "82c327ca",
   "metadata": {},
   "source": [
    "##### Check if there's any null values in 'Engine' and 'Power' columns"
   ]
  },
  {
   "cell_type": "code",
   "execution_count": 16,
   "id": "f99d054e",
   "metadata": {
    "scrolled": true
   },
   "outputs": [
    {
     "data": {
      "text/plain": [
       "Price                1234\n",
       "Seats                  53\n",
       "Mileage                 2\n",
       "Name                    0\n",
       "Location                0\n",
       "Year                    0\n",
       "Kilometers_Driven       0\n",
       "Fuel_Type               0\n",
       "Transmission            0\n",
       "Owner_Type              0\n",
       "Engine                  0\n",
       "Power                   0\n",
       "dtype: int64"
      ]
     },
     "execution_count": 16,
     "metadata": {},
     "output_type": "execute_result"
    }
   ],
   "source": [
    "df.isnull().sum().sort_values(ascending=False) #Print the total of missing counts for each columns"
   ]
  },
  {
   "cell_type": "markdown",
   "id": "762d756e",
   "metadata": {},
   "source": [
    "Time to work with rest of columns that has missing values"
   ]
  },
  {
   "cell_type": "markdown",
   "id": "88ac1a98",
   "metadata": {},
   "source": [
    "##### 'Seats': Remove 'NaN' values and replace them with 0 to see information without missing values"
   ]
  },
  {
   "cell_type": "code",
   "execution_count": 17,
   "id": "7c2c5a82",
   "metadata": {},
   "outputs": [
    {
     "data": {
      "text/html": [
       "<div>\n",
       "<style scoped>\n",
       "    .dataframe tbody tr th:only-of-type {\n",
       "        vertical-align: middle;\n",
       "    }\n",
       "\n",
       "    .dataframe tbody tr th {\n",
       "        vertical-align: top;\n",
       "    }\n",
       "\n",
       "    .dataframe thead th {\n",
       "        text-align: right;\n",
       "    }\n",
       "</style>\n",
       "<table border=\"1\" class=\"dataframe\">\n",
       "  <thead>\n",
       "    <tr style=\"text-align: right;\">\n",
       "      <th></th>\n",
       "      <th>count</th>\n",
       "      <th>mean</th>\n",
       "      <th>std</th>\n",
       "      <th>min</th>\n",
       "      <th>25%</th>\n",
       "      <th>50%</th>\n",
       "      <th>75%</th>\n",
       "      <th>max</th>\n",
       "    </tr>\n",
       "  </thead>\n",
       "  <tbody>\n",
       "    <tr>\n",
       "      <th>Year</th>\n",
       "      <td>7253.0</td>\n",
       "      <td>2013.365366</td>\n",
       "      <td>3.254421</td>\n",
       "      <td>1996.00</td>\n",
       "      <td>2011.0</td>\n",
       "      <td>2014.00</td>\n",
       "      <td>2016.00</td>\n",
       "      <td>2019.0</td>\n",
       "    </tr>\n",
       "    <tr>\n",
       "      <th>Kilometers_Driven</th>\n",
       "      <td>7253.0</td>\n",
       "      <td>58699.063146</td>\n",
       "      <td>84427.720583</td>\n",
       "      <td>171.00</td>\n",
       "      <td>34000.0</td>\n",
       "      <td>53416.00</td>\n",
       "      <td>73000.00</td>\n",
       "      <td>6500000.0</td>\n",
       "    </tr>\n",
       "    <tr>\n",
       "      <th>Engine</th>\n",
       "      <td>7253.0</td>\n",
       "      <td>1615.789742</td>\n",
       "      <td>593.475257</td>\n",
       "      <td>72.00</td>\n",
       "      <td>1198.0</td>\n",
       "      <td>1493.00</td>\n",
       "      <td>1968.00</td>\n",
       "      <td>5998.0</td>\n",
       "    </tr>\n",
       "    <tr>\n",
       "      <th>Power</th>\n",
       "      <td>7253.0</td>\n",
       "      <td>112.312448</td>\n",
       "      <td>52.922581</td>\n",
       "      <td>34.20</td>\n",
       "      <td>77.0</td>\n",
       "      <td>94.00</td>\n",
       "      <td>138.03</td>\n",
       "      <td>616.0</td>\n",
       "    </tr>\n",
       "    <tr>\n",
       "      <th>Seats</th>\n",
       "      <td>7253.0</td>\n",
       "      <td>5.241142</td>\n",
       "      <td>0.925317</td>\n",
       "      <td>0.00</td>\n",
       "      <td>5.0</td>\n",
       "      <td>5.00</td>\n",
       "      <td>5.00</td>\n",
       "      <td>10.0</td>\n",
       "    </tr>\n",
       "    <tr>\n",
       "      <th>Price</th>\n",
       "      <td>6019.0</td>\n",
       "      <td>9.479468</td>\n",
       "      <td>11.187917</td>\n",
       "      <td>0.44</td>\n",
       "      <td>3.5</td>\n",
       "      <td>5.64</td>\n",
       "      <td>9.95</td>\n",
       "      <td>160.0</td>\n",
       "    </tr>\n",
       "  </tbody>\n",
       "</table>\n",
       "</div>"
      ],
      "text/plain": [
       "                    count          mean           std      min      25%  \\\n",
       "Year               7253.0   2013.365366      3.254421  1996.00   2011.0   \n",
       "Kilometers_Driven  7253.0  58699.063146  84427.720583   171.00  34000.0   \n",
       "Engine             7253.0   1615.789742    593.475257    72.00   1198.0   \n",
       "Power              7253.0    112.312448     52.922581    34.20     77.0   \n",
       "Seats              7253.0      5.241142      0.925317     0.00      5.0   \n",
       "Price              6019.0      9.479468     11.187917     0.44      3.5   \n",
       "\n",
       "                        50%       75%        max  \n",
       "Year                2014.00   2016.00     2019.0  \n",
       "Kilometers_Driven  53416.00  73000.00  6500000.0  \n",
       "Engine              1493.00   1968.00     5998.0  \n",
       "Power                 94.00    138.03      616.0  \n",
       "Seats                  5.00      5.00       10.0  \n",
       "Price                  5.64      9.95      160.0  "
      ]
     },
     "execution_count": 17,
     "metadata": {},
     "output_type": "execute_result"
    }
   ],
   "source": [
    "df[\"Seats\"] = ucdata[\"Seats\"].replace(np.nan,0) #replace 'NaN' with '0'\n",
    "df.describe().T"
   ]
  },
  {
   "cell_type": "markdown",
   "id": "7fc548dc",
   "metadata": {},
   "source": [
    "- The min value for 'Seat' column is 0 because NaN values are replaced with zeros. Needs to be removed or replace with mean\n",
    "- It show's that the value for 25%,50%, and 75% is '5seats' and it is same with the mean which is '5.24' close to 5. \n",
    "\n",
    "Can conclude there's a high chance that the value of median would be '5' and could replace missing values with '5'"
   ]
  },
  {
   "cell_type": "markdown",
   "id": "c4ed0435",
   "metadata": {},
   "source": [
    "##### Shape of seats only with non-zero values "
   ]
  },
  {
   "cell_type": "code",
   "execution_count": 18,
   "id": "ea535254",
   "metadata": {},
   "outputs": [
    {
     "data": {
      "text/plain": [
       "(7199, 12)"
      ]
     },
     "execution_count": 18,
     "metadata": {},
     "output_type": "execute_result"
    }
   ],
   "source": [
    "df_seats_interim=df[df[\"Seats\"]!=0] #Create a new table with only non-zero rows\n",
    "\n",
    "df_seats_interim.shape"
   ]
  },
  {
   "cell_type": "markdown",
   "id": "a0c650ef",
   "metadata": {},
   "source": [
    "The count of non-zero rows would be 7199 since the zero value which was already there before plugging in were not counted before (7253-54=7199)"
   ]
  },
  {
   "cell_type": "markdown",
   "id": "ac30f154",
   "metadata": {},
   "source": [
    "##### Summarize 'Seats' information grouped by same used car model names"
   ]
  },
  {
   "cell_type": "code",
   "execution_count": 19,
   "id": "2b669525",
   "metadata": {
    "scrolled": true
   },
   "outputs": [
    {
     "data": {
      "text/html": [
       "<div>\n",
       "<style scoped>\n",
       "    .dataframe tbody tr th:only-of-type {\n",
       "        vertical-align: middle;\n",
       "    }\n",
       "\n",
       "    .dataframe tbody tr th {\n",
       "        vertical-align: top;\n",
       "    }\n",
       "\n",
       "    .dataframe thead th {\n",
       "        text-align: right;\n",
       "    }\n",
       "</style>\n",
       "<table border=\"1\" class=\"dataframe\">\n",
       "  <thead>\n",
       "    <tr style=\"text-align: right;\">\n",
       "      <th></th>\n",
       "      <th>Name</th>\n",
       "      <th>avg_seat</th>\n",
       "      <th>min_seat</th>\n",
       "      <th>max_seat</th>\n",
       "      <th>count_seat</th>\n",
       "      <th>Diff</th>\n",
       "    </tr>\n",
       "  </thead>\n",
       "  <tbody>\n",
       "    <tr>\n",
       "      <th>0</th>\n",
       "      <td>Ambassador Classic Nova Diesel</td>\n",
       "      <td>5.0</td>\n",
       "      <td>5.0</td>\n",
       "      <td>5.0</td>\n",
       "      <td>1</td>\n",
       "      <td>0.0</td>\n",
       "    </tr>\n",
       "    <tr>\n",
       "      <th>1</th>\n",
       "      <td>Audi A3 35 TDI Attraction</td>\n",
       "      <td>5.0</td>\n",
       "      <td>5.0</td>\n",
       "      <td>5.0</td>\n",
       "      <td>2</td>\n",
       "      <td>0.0</td>\n",
       "    </tr>\n",
       "    <tr>\n",
       "      <th>2</th>\n",
       "      <td>Audi A3 35 TDI Premium</td>\n",
       "      <td>5.0</td>\n",
       "      <td>5.0</td>\n",
       "      <td>5.0</td>\n",
       "      <td>1</td>\n",
       "      <td>0.0</td>\n",
       "    </tr>\n",
       "    <tr>\n",
       "      <th>3</th>\n",
       "      <td>Audi A3 35 TDI Premium Plus</td>\n",
       "      <td>5.0</td>\n",
       "      <td>5.0</td>\n",
       "      <td>5.0</td>\n",
       "      <td>2</td>\n",
       "      <td>0.0</td>\n",
       "    </tr>\n",
       "    <tr>\n",
       "      <th>4</th>\n",
       "      <td>Audi A3 35 TDI Technology</td>\n",
       "      <td>5.0</td>\n",
       "      <td>5.0</td>\n",
       "      <td>5.0</td>\n",
       "      <td>1</td>\n",
       "      <td>0.0</td>\n",
       "    </tr>\n",
       "    <tr>\n",
       "      <th>...</th>\n",
       "      <td>...</td>\n",
       "      <td>...</td>\n",
       "      <td>...</td>\n",
       "      <td>...</td>\n",
       "      <td>...</td>\n",
       "      <td>...</td>\n",
       "    </tr>\n",
       "    <tr>\n",
       "      <th>2011</th>\n",
       "      <td>Volvo XC60 D4 Summum</td>\n",
       "      <td>5.0</td>\n",
       "      <td>5.0</td>\n",
       "      <td>5.0</td>\n",
       "      <td>1</td>\n",
       "      <td>0.0</td>\n",
       "    </tr>\n",
       "    <tr>\n",
       "      <th>2012</th>\n",
       "      <td>Volvo XC60 D5</td>\n",
       "      <td>5.0</td>\n",
       "      <td>5.0</td>\n",
       "      <td>5.0</td>\n",
       "      <td>3</td>\n",
       "      <td>0.0</td>\n",
       "    </tr>\n",
       "    <tr>\n",
       "      <th>2013</th>\n",
       "      <td>Volvo XC60 D5 Inscription</td>\n",
       "      <td>5.0</td>\n",
       "      <td>5.0</td>\n",
       "      <td>5.0</td>\n",
       "      <td>1</td>\n",
       "      <td>0.0</td>\n",
       "    </tr>\n",
       "    <tr>\n",
       "      <th>2014</th>\n",
       "      <td>Volvo XC90 2007-2015 D5 AT AWD</td>\n",
       "      <td>7.0</td>\n",
       "      <td>7.0</td>\n",
       "      <td>7.0</td>\n",
       "      <td>1</td>\n",
       "      <td>0.0</td>\n",
       "    </tr>\n",
       "    <tr>\n",
       "      <th>2015</th>\n",
       "      <td>Volvo XC90 2007-2015 D5 AWD</td>\n",
       "      <td>7.0</td>\n",
       "      <td>7.0</td>\n",
       "      <td>7.0</td>\n",
       "      <td>3</td>\n",
       "      <td>0.0</td>\n",
       "    </tr>\n",
       "  </tbody>\n",
       "</table>\n",
       "<p>2016 rows × 6 columns</p>\n",
       "</div>"
      ],
      "text/plain": [
       "                                Name  avg_seat  min_seat  max_seat  \\\n",
       "0     Ambassador Classic Nova Diesel       5.0       5.0       5.0   \n",
       "1          Audi A3 35 TDI Attraction       5.0       5.0       5.0   \n",
       "2             Audi A3 35 TDI Premium       5.0       5.0       5.0   \n",
       "3        Audi A3 35 TDI Premium Plus       5.0       5.0       5.0   \n",
       "4          Audi A3 35 TDI Technology       5.0       5.0       5.0   \n",
       "...                              ...       ...       ...       ...   \n",
       "2011            Volvo XC60 D4 Summum       5.0       5.0       5.0   \n",
       "2012                   Volvo XC60 D5       5.0       5.0       5.0   \n",
       "2013       Volvo XC60 D5 Inscription       5.0       5.0       5.0   \n",
       "2014  Volvo XC90 2007-2015 D5 AT AWD       7.0       7.0       7.0   \n",
       "2015     Volvo XC90 2007-2015 D5 AWD       7.0       7.0       7.0   \n",
       "\n",
       "      count_seat  Diff  \n",
       "0              1   0.0  \n",
       "1              2   0.0  \n",
       "2              1   0.0  \n",
       "3              2   0.0  \n",
       "4              1   0.0  \n",
       "...          ...   ...  \n",
       "2011           1   0.0  \n",
       "2012           3   0.0  \n",
       "2013           1   0.0  \n",
       "2014           1   0.0  \n",
       "2015           3   0.0  \n",
       "\n",
       "[2016 rows x 6 columns]"
      ]
     },
     "execution_count": 19,
     "metadata": {},
     "output_type": "execute_result"
    }
   ],
   "source": [
    "#get the avg of the seats for each duplicate used car model names\n",
    "#find min and max to see if there are differences between duplacate car model name\n",
    "#see the count of duplicates per car model\n",
    "Seat_Summary=df_seats_interim.groupby('Name').agg(avg_seat=('Seats','mean'),\\\n",
    "                                                  min_seat=('Seats','min'), max_seat=('Seats','max'),\\\n",
    "                                                  count_seat=('Seats','count')).reset_index()\n",
    "\n",
    "Seat_Summary['Diff']=Seat_Summary['avg_seat']-Seat_Summary['min_seat']  \n",
    "\"\"\"If Diff > 0, then can interpret there's missing seat values among duplicate car models\"\"\"\n",
    "\n",
    "Seat_Summary"
   ]
  },
  {
   "cell_type": "markdown",
   "id": "678acf1d",
   "metadata": {},
   "source": [
    "##### Merge a new column"
   ]
  },
  {
   "cell_type": "code",
   "execution_count": 20,
   "id": "63525bf7",
   "metadata": {
    "scrolled": true
   },
   "outputs": [
    {
     "data": {
      "text/html": [
       "<div>\n",
       "<style scoped>\n",
       "    .dataframe tbody tr th:only-of-type {\n",
       "        vertical-align: middle;\n",
       "    }\n",
       "\n",
       "    .dataframe tbody tr th {\n",
       "        vertical-align: top;\n",
       "    }\n",
       "\n",
       "    .dataframe thead th {\n",
       "        text-align: right;\n",
       "    }\n",
       "</style>\n",
       "<table border=\"1\" class=\"dataframe\">\n",
       "  <thead>\n",
       "    <tr style=\"text-align: right;\">\n",
       "      <th></th>\n",
       "      <th>Name</th>\n",
       "      <th>Location</th>\n",
       "      <th>Year</th>\n",
       "      <th>Kilometers_Driven</th>\n",
       "      <th>Fuel_Type</th>\n",
       "      <th>Transmission</th>\n",
       "      <th>Owner_Type</th>\n",
       "      <th>Mileage</th>\n",
       "      <th>Engine</th>\n",
       "      <th>Power</th>\n",
       "      <th>Seats</th>\n",
       "      <th>Price</th>\n",
       "      <th>min_seat</th>\n",
       "    </tr>\n",
       "  </thead>\n",
       "  <tbody>\n",
       "    <tr>\n",
       "      <th>0</th>\n",
       "      <td>Maruti Wagon R LXI CNG</td>\n",
       "      <td>Mumbai</td>\n",
       "      <td>2010</td>\n",
       "      <td>72000</td>\n",
       "      <td>CNG</td>\n",
       "      <td>Manual</td>\n",
       "      <td>First</td>\n",
       "      <td>26.6 km/kg</td>\n",
       "      <td>998.0</td>\n",
       "      <td>58.16</td>\n",
       "      <td>5.0</td>\n",
       "      <td>1.75</td>\n",
       "      <td>5.0</td>\n",
       "    </tr>\n",
       "    <tr>\n",
       "      <th>1</th>\n",
       "      <td>Hyundai Creta 1.6 CRDi SX Option</td>\n",
       "      <td>Pune</td>\n",
       "      <td>2015</td>\n",
       "      <td>41000</td>\n",
       "      <td>Diesel</td>\n",
       "      <td>Manual</td>\n",
       "      <td>First</td>\n",
       "      <td>19.67 kmpl</td>\n",
       "      <td>1582.0</td>\n",
       "      <td>126.20</td>\n",
       "      <td>5.0</td>\n",
       "      <td>12.50</td>\n",
       "      <td>5.0</td>\n",
       "    </tr>\n",
       "    <tr>\n",
       "      <th>2</th>\n",
       "      <td>Honda Jazz V</td>\n",
       "      <td>Chennai</td>\n",
       "      <td>2011</td>\n",
       "      <td>46000</td>\n",
       "      <td>Petrol</td>\n",
       "      <td>Manual</td>\n",
       "      <td>First</td>\n",
       "      <td>18.2 kmpl</td>\n",
       "      <td>1199.0</td>\n",
       "      <td>88.70</td>\n",
       "      <td>5.0</td>\n",
       "      <td>4.50</td>\n",
       "      <td>5.0</td>\n",
       "    </tr>\n",
       "    <tr>\n",
       "      <th>3</th>\n",
       "      <td>Maruti Ertiga VDI</td>\n",
       "      <td>Chennai</td>\n",
       "      <td>2012</td>\n",
       "      <td>87000</td>\n",
       "      <td>Diesel</td>\n",
       "      <td>Manual</td>\n",
       "      <td>First</td>\n",
       "      <td>20.77 kmpl</td>\n",
       "      <td>1248.0</td>\n",
       "      <td>88.76</td>\n",
       "      <td>7.0</td>\n",
       "      <td>6.00</td>\n",
       "      <td>7.0</td>\n",
       "    </tr>\n",
       "    <tr>\n",
       "      <th>4</th>\n",
       "      <td>Audi A4 New 2.0 TDI Multitronic</td>\n",
       "      <td>Coimbatore</td>\n",
       "      <td>2013</td>\n",
       "      <td>40670</td>\n",
       "      <td>Diesel</td>\n",
       "      <td>Automatic</td>\n",
       "      <td>Second</td>\n",
       "      <td>15.2 kmpl</td>\n",
       "      <td>1968.0</td>\n",
       "      <td>140.80</td>\n",
       "      <td>5.0</td>\n",
       "      <td>17.74</td>\n",
       "      <td>5.0</td>\n",
       "    </tr>\n",
       "  </tbody>\n",
       "</table>\n",
       "</div>"
      ],
      "text/plain": [
       "                               Name    Location  Year  Kilometers_Driven  \\\n",
       "0            Maruti Wagon R LXI CNG      Mumbai  2010              72000   \n",
       "1  Hyundai Creta 1.6 CRDi SX Option        Pune  2015              41000   \n",
       "2                      Honda Jazz V     Chennai  2011              46000   \n",
       "3                 Maruti Ertiga VDI     Chennai  2012              87000   \n",
       "4   Audi A4 New 2.0 TDI Multitronic  Coimbatore  2013              40670   \n",
       "\n",
       "  Fuel_Type Transmission Owner_Type     Mileage  Engine   Power  Seats  Price  \\\n",
       "0       CNG       Manual      First  26.6 km/kg   998.0   58.16    5.0   1.75   \n",
       "1    Diesel       Manual      First  19.67 kmpl  1582.0  126.20    5.0  12.50   \n",
       "2    Petrol       Manual      First   18.2 kmpl  1199.0   88.70    5.0   4.50   \n",
       "3    Diesel       Manual      First  20.77 kmpl  1248.0   88.76    7.0   6.00   \n",
       "4    Diesel    Automatic     Second   15.2 kmpl  1968.0  140.80    5.0  17.74   \n",
       "\n",
       "   min_seat  \n",
       "0       5.0  \n",
       "1       5.0  \n",
       "2       5.0  \n",
       "3       7.0  \n",
       "4       5.0  "
      ]
     },
     "execution_count": 20,
     "metadata": {},
     "output_type": "execute_result"
    }
   ],
   "source": [
    "Seat_Summary=Seat_Summary[['Name', 'min_seat']] #new df only with columns: 'Name' and 'min_seat'\n",
    "\n",
    "df_join=df.merge(Seat_Summary,on=\"Name\",how=\"left\") #merge seat_summary dataframe and df dataframe joined by 'Name' column \n",
    "\n",
    "df_join.head()"
   ]
  },
  {
   "cell_type": "code",
   "execution_count": 21,
   "id": "7d9823e1",
   "metadata": {
    "scrolled": true
   },
   "outputs": [
    {
     "data": {
      "text/html": [
       "<div>\n",
       "<style scoped>\n",
       "    .dataframe tbody tr th:only-of-type {\n",
       "        vertical-align: middle;\n",
       "    }\n",
       "\n",
       "    .dataframe tbody tr th {\n",
       "        vertical-align: top;\n",
       "    }\n",
       "\n",
       "    .dataframe thead th {\n",
       "        text-align: right;\n",
       "    }\n",
       "</style>\n",
       "<table border=\"1\" class=\"dataframe\">\n",
       "  <thead>\n",
       "    <tr style=\"text-align: right;\">\n",
       "      <th></th>\n",
       "      <th>Name</th>\n",
       "      <th>Location</th>\n",
       "      <th>Year</th>\n",
       "      <th>Kilometers_Driven</th>\n",
       "      <th>Fuel_Type</th>\n",
       "      <th>Transmission</th>\n",
       "      <th>Owner_Type</th>\n",
       "      <th>Mileage</th>\n",
       "      <th>Engine</th>\n",
       "      <th>Power</th>\n",
       "      <th>Seats</th>\n",
       "      <th>Price</th>\n",
       "      <th>min_seat</th>\n",
       "    </tr>\n",
       "  </thead>\n",
       "  <tbody>\n",
       "    <tr>\n",
       "      <th>0</th>\n",
       "      <td>Maruti Wagon R LXI CNG</td>\n",
       "      <td>Mumbai</td>\n",
       "      <td>2010</td>\n",
       "      <td>72000</td>\n",
       "      <td>CNG</td>\n",
       "      <td>Manual</td>\n",
       "      <td>First</td>\n",
       "      <td>26.6 km/kg</td>\n",
       "      <td>998.0</td>\n",
       "      <td>58.16</td>\n",
       "      <td>5.0</td>\n",
       "      <td>1.75</td>\n",
       "      <td>5.0</td>\n",
       "    </tr>\n",
       "    <tr>\n",
       "      <th>1</th>\n",
       "      <td>Hyundai Creta 1.6 CRDi SX Option</td>\n",
       "      <td>Pune</td>\n",
       "      <td>2015</td>\n",
       "      <td>41000</td>\n",
       "      <td>Diesel</td>\n",
       "      <td>Manual</td>\n",
       "      <td>First</td>\n",
       "      <td>19.67 kmpl</td>\n",
       "      <td>1582.0</td>\n",
       "      <td>126.20</td>\n",
       "      <td>5.0</td>\n",
       "      <td>12.50</td>\n",
       "      <td>5.0</td>\n",
       "    </tr>\n",
       "    <tr>\n",
       "      <th>2</th>\n",
       "      <td>Honda Jazz V</td>\n",
       "      <td>Chennai</td>\n",
       "      <td>2011</td>\n",
       "      <td>46000</td>\n",
       "      <td>Petrol</td>\n",
       "      <td>Manual</td>\n",
       "      <td>First</td>\n",
       "      <td>18.2 kmpl</td>\n",
       "      <td>1199.0</td>\n",
       "      <td>88.70</td>\n",
       "      <td>5.0</td>\n",
       "      <td>4.50</td>\n",
       "      <td>5.0</td>\n",
       "    </tr>\n",
       "    <tr>\n",
       "      <th>3</th>\n",
       "      <td>Maruti Ertiga VDI</td>\n",
       "      <td>Chennai</td>\n",
       "      <td>2012</td>\n",
       "      <td>87000</td>\n",
       "      <td>Diesel</td>\n",
       "      <td>Manual</td>\n",
       "      <td>First</td>\n",
       "      <td>20.77 kmpl</td>\n",
       "      <td>1248.0</td>\n",
       "      <td>88.76</td>\n",
       "      <td>7.0</td>\n",
       "      <td>6.00</td>\n",
       "      <td>7.0</td>\n",
       "    </tr>\n",
       "    <tr>\n",
       "      <th>4</th>\n",
       "      <td>Audi A4 New 2.0 TDI Multitronic</td>\n",
       "      <td>Coimbatore</td>\n",
       "      <td>2013</td>\n",
       "      <td>40670</td>\n",
       "      <td>Diesel</td>\n",
       "      <td>Automatic</td>\n",
       "      <td>Second</td>\n",
       "      <td>15.2 kmpl</td>\n",
       "      <td>1968.0</td>\n",
       "      <td>140.80</td>\n",
       "      <td>5.0</td>\n",
       "      <td>17.74</td>\n",
       "      <td>5.0</td>\n",
       "    </tr>\n",
       "    <tr>\n",
       "      <th>...</th>\n",
       "      <td>...</td>\n",
       "      <td>...</td>\n",
       "      <td>...</td>\n",
       "      <td>...</td>\n",
       "      <td>...</td>\n",
       "      <td>...</td>\n",
       "      <td>...</td>\n",
       "      <td>...</td>\n",
       "      <td>...</td>\n",
       "      <td>...</td>\n",
       "      <td>...</td>\n",
       "      <td>...</td>\n",
       "      <td>...</td>\n",
       "    </tr>\n",
       "    <tr>\n",
       "      <th>7248</th>\n",
       "      <td>Volkswagen Vento Diesel Trendline</td>\n",
       "      <td>Hyderabad</td>\n",
       "      <td>2011</td>\n",
       "      <td>89411</td>\n",
       "      <td>Diesel</td>\n",
       "      <td>Manual</td>\n",
       "      <td>First</td>\n",
       "      <td>20.54 kmpl</td>\n",
       "      <td>1598.0</td>\n",
       "      <td>103.60</td>\n",
       "      <td>5.0</td>\n",
       "      <td>NaN</td>\n",
       "      <td>5.0</td>\n",
       "    </tr>\n",
       "    <tr>\n",
       "      <th>7249</th>\n",
       "      <td>Volkswagen Polo GT TSI</td>\n",
       "      <td>Mumbai</td>\n",
       "      <td>2015</td>\n",
       "      <td>59000</td>\n",
       "      <td>Petrol</td>\n",
       "      <td>Automatic</td>\n",
       "      <td>First</td>\n",
       "      <td>17.21 kmpl</td>\n",
       "      <td>1197.0</td>\n",
       "      <td>103.60</td>\n",
       "      <td>5.0</td>\n",
       "      <td>NaN</td>\n",
       "      <td>5.0</td>\n",
       "    </tr>\n",
       "    <tr>\n",
       "      <th>7250</th>\n",
       "      <td>Nissan Micra Diesel XV</td>\n",
       "      <td>Kolkata</td>\n",
       "      <td>2012</td>\n",
       "      <td>28000</td>\n",
       "      <td>Diesel</td>\n",
       "      <td>Manual</td>\n",
       "      <td>First</td>\n",
       "      <td>23.08 kmpl</td>\n",
       "      <td>1461.0</td>\n",
       "      <td>63.10</td>\n",
       "      <td>5.0</td>\n",
       "      <td>NaN</td>\n",
       "      <td>5.0</td>\n",
       "    </tr>\n",
       "    <tr>\n",
       "      <th>7251</th>\n",
       "      <td>Volkswagen Polo GT TSI</td>\n",
       "      <td>Pune</td>\n",
       "      <td>2013</td>\n",
       "      <td>52262</td>\n",
       "      <td>Petrol</td>\n",
       "      <td>Automatic</td>\n",
       "      <td>Third</td>\n",
       "      <td>17.2 kmpl</td>\n",
       "      <td>1197.0</td>\n",
       "      <td>103.60</td>\n",
       "      <td>5.0</td>\n",
       "      <td>NaN</td>\n",
       "      <td>5.0</td>\n",
       "    </tr>\n",
       "    <tr>\n",
       "      <th>7252</th>\n",
       "      <td>Mercedes-Benz E-Class 2009-2013 E 220 CDI Avan...</td>\n",
       "      <td>Kochi</td>\n",
       "      <td>2014</td>\n",
       "      <td>72443</td>\n",
       "      <td>Diesel</td>\n",
       "      <td>Automatic</td>\n",
       "      <td>First</td>\n",
       "      <td>10.0 kmpl</td>\n",
       "      <td>2148.0</td>\n",
       "      <td>170.00</td>\n",
       "      <td>5.0</td>\n",
       "      <td>NaN</td>\n",
       "      <td>5.0</td>\n",
       "    </tr>\n",
       "  </tbody>\n",
       "</table>\n",
       "<p>7253 rows × 13 columns</p>\n",
       "</div>"
      ],
      "text/plain": [
       "                                                   Name    Location  Year  \\\n",
       "0                                Maruti Wagon R LXI CNG      Mumbai  2010   \n",
       "1                      Hyundai Creta 1.6 CRDi SX Option        Pune  2015   \n",
       "2                                          Honda Jazz V     Chennai  2011   \n",
       "3                                     Maruti Ertiga VDI     Chennai  2012   \n",
       "4                       Audi A4 New 2.0 TDI Multitronic  Coimbatore  2013   \n",
       "...                                                 ...         ...   ...   \n",
       "7248                  Volkswagen Vento Diesel Trendline   Hyderabad  2011   \n",
       "7249                             Volkswagen Polo GT TSI      Mumbai  2015   \n",
       "7250                             Nissan Micra Diesel XV     Kolkata  2012   \n",
       "7251                             Volkswagen Polo GT TSI        Pune  2013   \n",
       "7252  Mercedes-Benz E-Class 2009-2013 E 220 CDI Avan...       Kochi  2014   \n",
       "\n",
       "      Kilometers_Driven Fuel_Type Transmission Owner_Type     Mileage  Engine  \\\n",
       "0                 72000       CNG       Manual      First  26.6 km/kg   998.0   \n",
       "1                 41000    Diesel       Manual      First  19.67 kmpl  1582.0   \n",
       "2                 46000    Petrol       Manual      First   18.2 kmpl  1199.0   \n",
       "3                 87000    Diesel       Manual      First  20.77 kmpl  1248.0   \n",
       "4                 40670    Diesel    Automatic     Second   15.2 kmpl  1968.0   \n",
       "...                 ...       ...          ...        ...         ...     ...   \n",
       "7248              89411    Diesel       Manual      First  20.54 kmpl  1598.0   \n",
       "7249              59000    Petrol    Automatic      First  17.21 kmpl  1197.0   \n",
       "7250              28000    Diesel       Manual      First  23.08 kmpl  1461.0   \n",
       "7251              52262    Petrol    Automatic      Third   17.2 kmpl  1197.0   \n",
       "7252              72443    Diesel    Automatic      First   10.0 kmpl  2148.0   \n",
       "\n",
       "       Power  Seats  Price  min_seat  \n",
       "0      58.16    5.0   1.75       5.0  \n",
       "1     126.20    5.0  12.50       5.0  \n",
       "2      88.70    5.0   4.50       5.0  \n",
       "3      88.76    7.0   6.00       7.0  \n",
       "4     140.80    5.0  17.74       5.0  \n",
       "...      ...    ...    ...       ...  \n",
       "7248  103.60    5.0    NaN       5.0  \n",
       "7249  103.60    5.0    NaN       5.0  \n",
       "7250   63.10    5.0    NaN       5.0  \n",
       "7251  103.60    5.0    NaN       5.0  \n",
       "7252  170.00    5.0    NaN       5.0  \n",
       "\n",
       "[7253 rows x 13 columns]"
      ]
     },
     "execution_count": 21,
     "metadata": {},
     "output_type": "execute_result"
    }
   ],
   "source": [
    "#------------------Examples of car models where the Seat is null but there was a similar model with seat information\n",
    "df_join[(df_join['Seats']==0) & (df_join['min_seat']>0)] #print where 'Seats' data are '0' and 'min_seat' data have a number bigger than '0'\n",
    "df_join"
   ]
  },
  {
   "cell_type": "markdown",
   "id": "e2ec5ea8",
   "metadata": {},
   "source": [
    "##### Replace data followed by conditions"
   ]
  },
  {
   "cell_type": "code",
   "execution_count": 22,
   "id": "f74ad92d",
   "metadata": {
    "scrolled": false
   },
   "outputs": [
    {
     "data": {
      "text/html": [
       "<div>\n",
       "<style scoped>\n",
       "    .dataframe tbody tr th:only-of-type {\n",
       "        vertical-align: middle;\n",
       "    }\n",
       "\n",
       "    .dataframe tbody tr th {\n",
       "        vertical-align: top;\n",
       "    }\n",
       "\n",
       "    .dataframe thead th {\n",
       "        text-align: right;\n",
       "    }\n",
       "</style>\n",
       "<table border=\"1\" class=\"dataframe\">\n",
       "  <thead>\n",
       "    <tr style=\"text-align: right;\">\n",
       "      <th></th>\n",
       "      <th>Name</th>\n",
       "      <th>Location</th>\n",
       "      <th>Year</th>\n",
       "      <th>Kilometers_Driven</th>\n",
       "      <th>Fuel_Type</th>\n",
       "      <th>Transmission</th>\n",
       "      <th>Owner_Type</th>\n",
       "      <th>Mileage</th>\n",
       "      <th>Engine</th>\n",
       "      <th>Power</th>\n",
       "      <th>Seats</th>\n",
       "      <th>Price</th>\n",
       "      <th>min_seat</th>\n",
       "    </tr>\n",
       "  </thead>\n",
       "  <tbody>\n",
       "    <tr>\n",
       "      <th>0</th>\n",
       "      <td>Maruti Wagon R LXI CNG</td>\n",
       "      <td>Mumbai</td>\n",
       "      <td>2010</td>\n",
       "      <td>72000</td>\n",
       "      <td>CNG</td>\n",
       "      <td>Manual</td>\n",
       "      <td>First</td>\n",
       "      <td>26.6 km/kg</td>\n",
       "      <td>998.0</td>\n",
       "      <td>58.16</td>\n",
       "      <td>5.0</td>\n",
       "      <td>1.75</td>\n",
       "      <td>5.0</td>\n",
       "    </tr>\n",
       "    <tr>\n",
       "      <th>1</th>\n",
       "      <td>Hyundai Creta 1.6 CRDi SX Option</td>\n",
       "      <td>Pune</td>\n",
       "      <td>2015</td>\n",
       "      <td>41000</td>\n",
       "      <td>Diesel</td>\n",
       "      <td>Manual</td>\n",
       "      <td>First</td>\n",
       "      <td>19.67 kmpl</td>\n",
       "      <td>1582.0</td>\n",
       "      <td>126.20</td>\n",
       "      <td>5.0</td>\n",
       "      <td>12.50</td>\n",
       "      <td>5.0</td>\n",
       "    </tr>\n",
       "    <tr>\n",
       "      <th>2</th>\n",
       "      <td>Honda Jazz V</td>\n",
       "      <td>Chennai</td>\n",
       "      <td>2011</td>\n",
       "      <td>46000</td>\n",
       "      <td>Petrol</td>\n",
       "      <td>Manual</td>\n",
       "      <td>First</td>\n",
       "      <td>18.2 kmpl</td>\n",
       "      <td>1199.0</td>\n",
       "      <td>88.70</td>\n",
       "      <td>5.0</td>\n",
       "      <td>4.50</td>\n",
       "      <td>5.0</td>\n",
       "    </tr>\n",
       "    <tr>\n",
       "      <th>3</th>\n",
       "      <td>Maruti Ertiga VDI</td>\n",
       "      <td>Chennai</td>\n",
       "      <td>2012</td>\n",
       "      <td>87000</td>\n",
       "      <td>Diesel</td>\n",
       "      <td>Manual</td>\n",
       "      <td>First</td>\n",
       "      <td>20.77 kmpl</td>\n",
       "      <td>1248.0</td>\n",
       "      <td>88.76</td>\n",
       "      <td>7.0</td>\n",
       "      <td>6.00</td>\n",
       "      <td>7.0</td>\n",
       "    </tr>\n",
       "    <tr>\n",
       "      <th>4</th>\n",
       "      <td>Audi A4 New 2.0 TDI Multitronic</td>\n",
       "      <td>Coimbatore</td>\n",
       "      <td>2013</td>\n",
       "      <td>40670</td>\n",
       "      <td>Diesel</td>\n",
       "      <td>Automatic</td>\n",
       "      <td>Second</td>\n",
       "      <td>15.2 kmpl</td>\n",
       "      <td>1968.0</td>\n",
       "      <td>140.80</td>\n",
       "      <td>5.0</td>\n",
       "      <td>17.74</td>\n",
       "      <td>5.0</td>\n",
       "    </tr>\n",
       "  </tbody>\n",
       "</table>\n",
       "</div>"
      ],
      "text/plain": [
       "                               Name    Location  Year  Kilometers_Driven  \\\n",
       "0            Maruti Wagon R LXI CNG      Mumbai  2010              72000   \n",
       "1  Hyundai Creta 1.6 CRDi SX Option        Pune  2015              41000   \n",
       "2                      Honda Jazz V     Chennai  2011              46000   \n",
       "3                 Maruti Ertiga VDI     Chennai  2012              87000   \n",
       "4   Audi A4 New 2.0 TDI Multitronic  Coimbatore  2013              40670   \n",
       "\n",
       "  Fuel_Type Transmission Owner_Type     Mileage  Engine   Power  Seats  Price  \\\n",
       "0       CNG       Manual      First  26.6 km/kg   998.0   58.16    5.0   1.75   \n",
       "1    Diesel       Manual      First  19.67 kmpl  1582.0  126.20    5.0  12.50   \n",
       "2    Petrol       Manual      First   18.2 kmpl  1199.0   88.70    5.0   4.50   \n",
       "3    Diesel       Manual      First  20.77 kmpl  1248.0   88.76    7.0   6.00   \n",
       "4    Diesel    Automatic     Second   15.2 kmpl  1968.0  140.80    5.0  17.74   \n",
       "\n",
       "   min_seat  \n",
       "0       5.0  \n",
       "1       5.0  \n",
       "2       5.0  \n",
       "3       7.0  \n",
       "4       5.0  "
      ]
     },
     "execution_count": 22,
     "metadata": {},
     "output_type": "execute_result"
    }
   ],
   "source": [
    "for i, row in df_join.iterrows():\n",
    "  # assign tables' names:   \n",
    "    seats_val=df_join.at[i,'Seats'] # new table with values from 'seats'\n",
    "    \n",
    "    min_seat=df_join.at[i,'min_seat'] #new table with values from 'min_seat'\n",
    "    \n",
    "    median_seat=df_join['Seats'].median() #new table with median values from 'seats'\n",
    "    \n",
    "    if seats_val==0 and np.isnan(min_seat):# seat value null and there's no duplicate name value\n",
    "        \n",
    "        df_join.at[i,'Seats']=median_seat #impute with median of 'seats'\n",
    "        \n",
    "    elif seats_val==0 and min_seat>0: #seat value null but know min seat value because of duplicate name values\n",
    "        \n",
    "        df_join.at[i,'Seats']=min_seat #replace with seat value from same car model \n",
    "\n",
    "        \n",
    "df_join.head()"
   ]
  },
  {
   "cell_type": "markdown",
   "id": "eebb6273",
   "metadata": {},
   "source": [
    "##### Drop unnecessary column"
   ]
  },
  {
   "cell_type": "code",
   "execution_count": 23,
   "id": "076a1268",
   "metadata": {},
   "outputs": [],
   "source": [
    "df_join.drop(['min_seat'], axis=1, inplace=True) #Drop 'min_seat' column "
   ]
  },
  {
   "cell_type": "code",
   "execution_count": 24,
   "id": "521726b4",
   "metadata": {},
   "outputs": [
    {
     "data": {
      "text/plain": [
       "Price                1234\n",
       "Mileage                 2\n",
       "Name                    0\n",
       "Location                0\n",
       "Year                    0\n",
       "Kilometers_Driven       0\n",
       "Fuel_Type               0\n",
       "Transmission            0\n",
       "Owner_Type              0\n",
       "Engine                  0\n",
       "Power                   0\n",
       "Seats                   0\n",
       "dtype: int64"
      ]
     },
     "execution_count": 24,
     "metadata": {},
     "output_type": "execute_result"
    }
   ],
   "source": [
    "df_join.isnull().sum().sort_values(ascending=False) "
   ]
  },
  {
   "cell_type": "markdown",
   "id": "274e8f7e",
   "metadata": {},
   "source": [
    "- The column 'min_seat' is dropped\n",
    "- All the nulls in 'Seats' are replaced well"
   ]
  },
  {
   "cell_type": "markdown",
   "id": "a4ecf821",
   "metadata": {},
   "source": [
    "##### 'Price': find median and replace missing values with median"
   ]
  },
  {
   "cell_type": "code",
   "execution_count": 25,
   "id": "6428ae0e",
   "metadata": {
    "scrolled": true
   },
   "outputs": [
    {
     "data": {
      "text/plain": [
       "Mileage              2\n",
       "Name                 0\n",
       "Location             0\n",
       "Year                 0\n",
       "Kilometers_Driven    0\n",
       "Fuel_Type            0\n",
       "Transmission         0\n",
       "Owner_Type           0\n",
       "Engine               0\n",
       "Power                0\n",
       "Seats                0\n",
       "Price                0\n",
       "dtype: int64"
      ]
     },
     "execution_count": 25,
     "metadata": {},
     "output_type": "execute_result"
    }
   ],
   "source": [
    "#Price\n",
    "df_price_missing=df_join[df_join[\"Price\"]!=0] #Create a new table with only non-zero rows\n",
    "df_price_missing['Price'].median() #Get median value\n",
    "\n",
    "df_join['Price'] = df_join['Price'].fillna(df_join['Price'].median()) #Replace null values with median \n",
    "df_join.isnull().sum().sort_values(ascending=False)"
   ]
  },
  {
   "cell_type": "markdown",
   "id": "a27e4b11",
   "metadata": {},
   "source": [
    "- All the nulls in 'Price' are replaced well\n",
    "\n",
    "Now, time to work with 'Mileage'"
   ]
  },
  {
   "cell_type": "code",
   "execution_count": 26,
   "id": "f0027aa8",
   "metadata": {
    "scrolled": true
   },
   "outputs": [
    {
     "data": {
      "text/html": [
       "<div>\n",
       "<style scoped>\n",
       "    .dataframe tbody tr th:only-of-type {\n",
       "        vertical-align: middle;\n",
       "    }\n",
       "\n",
       "    .dataframe tbody tr th {\n",
       "        vertical-align: top;\n",
       "    }\n",
       "\n",
       "    .dataframe thead th {\n",
       "        text-align: right;\n",
       "    }\n",
       "</style>\n",
       "<table border=\"1\" class=\"dataframe\">\n",
       "  <thead>\n",
       "    <tr style=\"text-align: right;\">\n",
       "      <th></th>\n",
       "      <th>0</th>\n",
       "      <th>1</th>\n",
       "    </tr>\n",
       "  </thead>\n",
       "  <tbody>\n",
       "    <tr>\n",
       "      <th>0</th>\n",
       "      <td>26.6</td>\n",
       "      <td>km/kg</td>\n",
       "    </tr>\n",
       "    <tr>\n",
       "      <th>1</th>\n",
       "      <td>19.67</td>\n",
       "      <td>kmpl</td>\n",
       "    </tr>\n",
       "    <tr>\n",
       "      <th>2</th>\n",
       "      <td>18.2</td>\n",
       "      <td>kmpl</td>\n",
       "    </tr>\n",
       "    <tr>\n",
       "      <th>3</th>\n",
       "      <td>20.77</td>\n",
       "      <td>kmpl</td>\n",
       "    </tr>\n",
       "    <tr>\n",
       "      <th>4</th>\n",
       "      <td>15.2</td>\n",
       "      <td>kmpl</td>\n",
       "    </tr>\n",
       "  </tbody>\n",
       "</table>\n",
       "</div>"
      ],
      "text/plain": [
       "       0      1\n",
       "0   26.6  km/kg\n",
       "1  19.67   kmpl\n",
       "2   18.2   kmpl\n",
       "3  20.77   kmpl\n",
       "4   15.2   kmpl"
      ]
     },
     "execution_count": 26,
     "metadata": {},
     "output_type": "execute_result"
    }
   ],
   "source": [
    "df_join.dropna(subset=['Mileage'],inplace=True) #Drop null values' from 'Mileage'\n",
    "\n",
    "mlge = df_join[\"Mileage\"].str.split(\" \", n = 1, expand = True) #Split values by space(\" \") and expand to two columns \n",
    "mlge.head()"
   ]
  },
  {
   "cell_type": "markdown",
   "id": "8b52d177",
   "metadata": {},
   "source": [
    "##### Convert units to number\n",
    "- 1mpg =0.425 kmpl\n",
    "- 1mpg =0.00167 km/kg"
   ]
  },
  {
   "cell_type": "code",
   "execution_count": 27,
   "id": "c5e222c9",
   "metadata": {
    "scrolled": true
   },
   "outputs": [
    {
     "data": {
      "text/html": [
       "<div>\n",
       "<style scoped>\n",
       "    .dataframe tbody tr th:only-of-type {\n",
       "        vertical-align: middle;\n",
       "    }\n",
       "\n",
       "    .dataframe tbody tr th {\n",
       "        vertical-align: top;\n",
       "    }\n",
       "\n",
       "    .dataframe thead th {\n",
       "        text-align: right;\n",
       "    }\n",
       "</style>\n",
       "<table border=\"1\" class=\"dataframe\">\n",
       "  <thead>\n",
       "    <tr style=\"text-align: right;\">\n",
       "      <th></th>\n",
       "      <th>Mileage</th>\n",
       "      <th>Units</th>\n",
       "    </tr>\n",
       "  </thead>\n",
       "  <tbody>\n",
       "    <tr>\n",
       "      <th>0</th>\n",
       "      <td>26.6</td>\n",
       "      <td>0.00167</td>\n",
       "    </tr>\n",
       "    <tr>\n",
       "      <th>1</th>\n",
       "      <td>19.67</td>\n",
       "      <td>0.42500</td>\n",
       "    </tr>\n",
       "    <tr>\n",
       "      <th>2</th>\n",
       "      <td>18.2</td>\n",
       "      <td>0.42500</td>\n",
       "    </tr>\n",
       "    <tr>\n",
       "      <th>3</th>\n",
       "      <td>20.77</td>\n",
       "      <td>0.42500</td>\n",
       "    </tr>\n",
       "    <tr>\n",
       "      <th>4</th>\n",
       "      <td>15.2</td>\n",
       "      <td>0.42500</td>\n",
       "    </tr>\n",
       "    <tr>\n",
       "      <th>...</th>\n",
       "      <td>...</td>\n",
       "      <td>...</td>\n",
       "    </tr>\n",
       "    <tr>\n",
       "      <th>7248</th>\n",
       "      <td>20.54</td>\n",
       "      <td>0.42500</td>\n",
       "    </tr>\n",
       "    <tr>\n",
       "      <th>7249</th>\n",
       "      <td>17.21</td>\n",
       "      <td>0.42500</td>\n",
       "    </tr>\n",
       "    <tr>\n",
       "      <th>7250</th>\n",
       "      <td>23.08</td>\n",
       "      <td>0.42500</td>\n",
       "    </tr>\n",
       "    <tr>\n",
       "      <th>7251</th>\n",
       "      <td>17.2</td>\n",
       "      <td>0.42500</td>\n",
       "    </tr>\n",
       "    <tr>\n",
       "      <th>7252</th>\n",
       "      <td>10.0</td>\n",
       "      <td>0.42500</td>\n",
       "    </tr>\n",
       "  </tbody>\n",
       "</table>\n",
       "<p>7251 rows × 2 columns</p>\n",
       "</div>"
      ],
      "text/plain": [
       "     Mileage    Units\n",
       "0       26.6  0.00167\n",
       "1      19.67  0.42500\n",
       "2       18.2  0.42500\n",
       "3      20.77  0.42500\n",
       "4       15.2  0.42500\n",
       "...      ...      ...\n",
       "7248   20.54  0.42500\n",
       "7249   17.21  0.42500\n",
       "7250   23.08  0.42500\n",
       "7251    17.2  0.42500\n",
       "7252    10.0  0.42500\n",
       "\n",
       "[7251 rows x 2 columns]"
      ]
     },
     "execution_count": 27,
     "metadata": {},
     "output_type": "execute_result"
    }
   ],
   "source": [
    "mlge.columns=['Mileage','Units'] #Name each columns\n",
    "mlge['Units'] = mlge['Units'].replace('kmpl', 0.425) #change unit 'kmpl' to 0.425\n",
    "mlge['Units'] = mlge['Units'].replace('km/kg', 0.00167) #change unit 'km/kg' to 0.00167\n",
    "mlge"
   ]
  },
  {
   "cell_type": "markdown",
   "id": "f615e92d",
   "metadata": {},
   "source": [
    "##### Calculate units to numbers"
   ]
  },
  {
   "cell_type": "code",
   "execution_count": 28,
   "id": "dd3d3834",
   "metadata": {
    "scrolled": true
   },
   "outputs": [
    {
     "data": {
      "text/html": [
       "<div>\n",
       "<style scoped>\n",
       "    .dataframe tbody tr th:only-of-type {\n",
       "        vertical-align: middle;\n",
       "    }\n",
       "\n",
       "    .dataframe tbody tr th {\n",
       "        vertical-align: top;\n",
       "    }\n",
       "\n",
       "    .dataframe thead th {\n",
       "        text-align: right;\n",
       "    }\n",
       "</style>\n",
       "<table border=\"1\" class=\"dataframe\">\n",
       "  <thead>\n",
       "    <tr style=\"text-align: right;\">\n",
       "      <th></th>\n",
       "      <th>Standard_Units</th>\n",
       "    </tr>\n",
       "  </thead>\n",
       "  <tbody>\n",
       "    <tr>\n",
       "      <th>0</th>\n",
       "      <td>0.044422</td>\n",
       "    </tr>\n",
       "    <tr>\n",
       "      <th>1</th>\n",
       "      <td>8.359750</td>\n",
       "    </tr>\n",
       "    <tr>\n",
       "      <th>2</th>\n",
       "      <td>7.735000</td>\n",
       "    </tr>\n",
       "    <tr>\n",
       "      <th>3</th>\n",
       "      <td>8.827250</td>\n",
       "    </tr>\n",
       "    <tr>\n",
       "      <th>4</th>\n",
       "      <td>6.460000</td>\n",
       "    </tr>\n",
       "    <tr>\n",
       "      <th>...</th>\n",
       "      <td>...</td>\n",
       "    </tr>\n",
       "    <tr>\n",
       "      <th>7248</th>\n",
       "      <td>8.729500</td>\n",
       "    </tr>\n",
       "    <tr>\n",
       "      <th>7249</th>\n",
       "      <td>7.314250</td>\n",
       "    </tr>\n",
       "    <tr>\n",
       "      <th>7250</th>\n",
       "      <td>9.809000</td>\n",
       "    </tr>\n",
       "    <tr>\n",
       "      <th>7251</th>\n",
       "      <td>7.310000</td>\n",
       "    </tr>\n",
       "    <tr>\n",
       "      <th>7252</th>\n",
       "      <td>4.250000</td>\n",
       "    </tr>\n",
       "  </tbody>\n",
       "</table>\n",
       "<p>7251 rows × 1 columns</p>\n",
       "</div>"
      ],
      "text/plain": [
       "      Standard_Units\n",
       "0           0.044422\n",
       "1           8.359750\n",
       "2           7.735000\n",
       "3           8.827250\n",
       "4           6.460000\n",
       "...              ...\n",
       "7248        8.729500\n",
       "7249        7.314250\n",
       "7250        9.809000\n",
       "7251        7.310000\n",
       "7252        4.250000\n",
       "\n",
       "[7251 rows x 1 columns]"
      ]
     },
     "execution_count": 28,
     "metadata": {},
     "output_type": "execute_result"
    }
   ],
   "source": [
    "mlge['Standard_Units']=mlge['Mileage'].astype('float')*mlge['Units'] #Multiply two columns \n",
    "new_mlge=mlge.drop(['Mileage','Units'], axis=1) #leave only 'Standard_Units' column \n",
    "new_mlge"
   ]
  },
  {
   "cell_type": "markdown",
   "id": "8ae105eb",
   "metadata": {},
   "source": [
    "##### Merge calculated values into 'Mileage'"
   ]
  },
  {
   "cell_type": "code",
   "execution_count": 29,
   "id": "7df75a11",
   "metadata": {
    "scrolled": true
   },
   "outputs": [
    {
     "data": {
      "text/html": [
       "<div>\n",
       "<style scoped>\n",
       "    .dataframe tbody tr th:only-of-type {\n",
       "        vertical-align: middle;\n",
       "    }\n",
       "\n",
       "    .dataframe tbody tr th {\n",
       "        vertical-align: top;\n",
       "    }\n",
       "\n",
       "    .dataframe thead th {\n",
       "        text-align: right;\n",
       "    }\n",
       "</style>\n",
       "<table border=\"1\" class=\"dataframe\">\n",
       "  <thead>\n",
       "    <tr style=\"text-align: right;\">\n",
       "      <th></th>\n",
       "      <th>Name</th>\n",
       "      <th>Location</th>\n",
       "      <th>Year</th>\n",
       "      <th>Kilometers_Driven</th>\n",
       "      <th>Fuel_Type</th>\n",
       "      <th>Transmission</th>\n",
       "      <th>Owner_Type</th>\n",
       "      <th>Mileage</th>\n",
       "      <th>Engine</th>\n",
       "      <th>Power</th>\n",
       "      <th>Seats</th>\n",
       "      <th>Price</th>\n",
       "    </tr>\n",
       "  </thead>\n",
       "  <tbody>\n",
       "    <tr>\n",
       "      <th>0</th>\n",
       "      <td>Maruti Wagon R LXI CNG</td>\n",
       "      <td>Mumbai</td>\n",
       "      <td>2010</td>\n",
       "      <td>72000</td>\n",
       "      <td>CNG</td>\n",
       "      <td>Manual</td>\n",
       "      <td>First</td>\n",
       "      <td>0.044422</td>\n",
       "      <td>998.0</td>\n",
       "      <td>58.16</td>\n",
       "      <td>5.0</td>\n",
       "      <td>1.75</td>\n",
       "    </tr>\n",
       "    <tr>\n",
       "      <th>1</th>\n",
       "      <td>Hyundai Creta 1.6 CRDi SX Option</td>\n",
       "      <td>Pune</td>\n",
       "      <td>2015</td>\n",
       "      <td>41000</td>\n",
       "      <td>Diesel</td>\n",
       "      <td>Manual</td>\n",
       "      <td>First</td>\n",
       "      <td>8.359750</td>\n",
       "      <td>1582.0</td>\n",
       "      <td>126.20</td>\n",
       "      <td>5.0</td>\n",
       "      <td>12.50</td>\n",
       "    </tr>\n",
       "    <tr>\n",
       "      <th>2</th>\n",
       "      <td>Honda Jazz V</td>\n",
       "      <td>Chennai</td>\n",
       "      <td>2011</td>\n",
       "      <td>46000</td>\n",
       "      <td>Petrol</td>\n",
       "      <td>Manual</td>\n",
       "      <td>First</td>\n",
       "      <td>7.735000</td>\n",
       "      <td>1199.0</td>\n",
       "      <td>88.70</td>\n",
       "      <td>5.0</td>\n",
       "      <td>4.50</td>\n",
       "    </tr>\n",
       "    <tr>\n",
       "      <th>3</th>\n",
       "      <td>Maruti Ertiga VDI</td>\n",
       "      <td>Chennai</td>\n",
       "      <td>2012</td>\n",
       "      <td>87000</td>\n",
       "      <td>Diesel</td>\n",
       "      <td>Manual</td>\n",
       "      <td>First</td>\n",
       "      <td>8.827250</td>\n",
       "      <td>1248.0</td>\n",
       "      <td>88.76</td>\n",
       "      <td>7.0</td>\n",
       "      <td>6.00</td>\n",
       "    </tr>\n",
       "    <tr>\n",
       "      <th>4</th>\n",
       "      <td>Audi A4 New 2.0 TDI Multitronic</td>\n",
       "      <td>Coimbatore</td>\n",
       "      <td>2013</td>\n",
       "      <td>40670</td>\n",
       "      <td>Diesel</td>\n",
       "      <td>Automatic</td>\n",
       "      <td>Second</td>\n",
       "      <td>6.460000</td>\n",
       "      <td>1968.0</td>\n",
       "      <td>140.80</td>\n",
       "      <td>5.0</td>\n",
       "      <td>17.74</td>\n",
       "    </tr>\n",
       "    <tr>\n",
       "      <th>...</th>\n",
       "      <td>...</td>\n",
       "      <td>...</td>\n",
       "      <td>...</td>\n",
       "      <td>...</td>\n",
       "      <td>...</td>\n",
       "      <td>...</td>\n",
       "      <td>...</td>\n",
       "      <td>...</td>\n",
       "      <td>...</td>\n",
       "      <td>...</td>\n",
       "      <td>...</td>\n",
       "      <td>...</td>\n",
       "    </tr>\n",
       "    <tr>\n",
       "      <th>7248</th>\n",
       "      <td>Volkswagen Vento Diesel Trendline</td>\n",
       "      <td>Hyderabad</td>\n",
       "      <td>2011</td>\n",
       "      <td>89411</td>\n",
       "      <td>Diesel</td>\n",
       "      <td>Manual</td>\n",
       "      <td>First</td>\n",
       "      <td>8.729500</td>\n",
       "      <td>1598.0</td>\n",
       "      <td>103.60</td>\n",
       "      <td>5.0</td>\n",
       "      <td>5.64</td>\n",
       "    </tr>\n",
       "    <tr>\n",
       "      <th>7249</th>\n",
       "      <td>Volkswagen Polo GT TSI</td>\n",
       "      <td>Mumbai</td>\n",
       "      <td>2015</td>\n",
       "      <td>59000</td>\n",
       "      <td>Petrol</td>\n",
       "      <td>Automatic</td>\n",
       "      <td>First</td>\n",
       "      <td>7.314250</td>\n",
       "      <td>1197.0</td>\n",
       "      <td>103.60</td>\n",
       "      <td>5.0</td>\n",
       "      <td>5.64</td>\n",
       "    </tr>\n",
       "    <tr>\n",
       "      <th>7250</th>\n",
       "      <td>Nissan Micra Diesel XV</td>\n",
       "      <td>Kolkata</td>\n",
       "      <td>2012</td>\n",
       "      <td>28000</td>\n",
       "      <td>Diesel</td>\n",
       "      <td>Manual</td>\n",
       "      <td>First</td>\n",
       "      <td>9.809000</td>\n",
       "      <td>1461.0</td>\n",
       "      <td>63.10</td>\n",
       "      <td>5.0</td>\n",
       "      <td>5.64</td>\n",
       "    </tr>\n",
       "    <tr>\n",
       "      <th>7251</th>\n",
       "      <td>Volkswagen Polo GT TSI</td>\n",
       "      <td>Pune</td>\n",
       "      <td>2013</td>\n",
       "      <td>52262</td>\n",
       "      <td>Petrol</td>\n",
       "      <td>Automatic</td>\n",
       "      <td>Third</td>\n",
       "      <td>7.310000</td>\n",
       "      <td>1197.0</td>\n",
       "      <td>103.60</td>\n",
       "      <td>5.0</td>\n",
       "      <td>5.64</td>\n",
       "    </tr>\n",
       "    <tr>\n",
       "      <th>7252</th>\n",
       "      <td>Mercedes-Benz E-Class 2009-2013 E 220 CDI Avan...</td>\n",
       "      <td>Kochi</td>\n",
       "      <td>2014</td>\n",
       "      <td>72443</td>\n",
       "      <td>Diesel</td>\n",
       "      <td>Automatic</td>\n",
       "      <td>First</td>\n",
       "      <td>4.250000</td>\n",
       "      <td>2148.0</td>\n",
       "      <td>170.00</td>\n",
       "      <td>5.0</td>\n",
       "      <td>5.64</td>\n",
       "    </tr>\n",
       "  </tbody>\n",
       "</table>\n",
       "<p>7251 rows × 12 columns</p>\n",
       "</div>"
      ],
      "text/plain": [
       "                                                   Name    Location  Year  \\\n",
       "0                                Maruti Wagon R LXI CNG      Mumbai  2010   \n",
       "1                      Hyundai Creta 1.6 CRDi SX Option        Pune  2015   \n",
       "2                                          Honda Jazz V     Chennai  2011   \n",
       "3                                     Maruti Ertiga VDI     Chennai  2012   \n",
       "4                       Audi A4 New 2.0 TDI Multitronic  Coimbatore  2013   \n",
       "...                                                 ...         ...   ...   \n",
       "7248                  Volkswagen Vento Diesel Trendline   Hyderabad  2011   \n",
       "7249                             Volkswagen Polo GT TSI      Mumbai  2015   \n",
       "7250                             Nissan Micra Diesel XV     Kolkata  2012   \n",
       "7251                             Volkswagen Polo GT TSI        Pune  2013   \n",
       "7252  Mercedes-Benz E-Class 2009-2013 E 220 CDI Avan...       Kochi  2014   \n",
       "\n",
       "      Kilometers_Driven Fuel_Type Transmission Owner_Type   Mileage  Engine  \\\n",
       "0                 72000       CNG       Manual      First  0.044422   998.0   \n",
       "1                 41000    Diesel       Manual      First  8.359750  1582.0   \n",
       "2                 46000    Petrol       Manual      First  7.735000  1199.0   \n",
       "3                 87000    Diesel       Manual      First  8.827250  1248.0   \n",
       "4                 40670    Diesel    Automatic     Second  6.460000  1968.0   \n",
       "...                 ...       ...          ...        ...       ...     ...   \n",
       "7248              89411    Diesel       Manual      First  8.729500  1598.0   \n",
       "7249              59000    Petrol    Automatic      First  7.314250  1197.0   \n",
       "7250              28000    Diesel       Manual      First  9.809000  1461.0   \n",
       "7251              52262    Petrol    Automatic      Third  7.310000  1197.0   \n",
       "7252              72443    Diesel    Automatic      First  4.250000  2148.0   \n",
       "\n",
       "       Power  Seats  Price  \n",
       "0      58.16    5.0   1.75  \n",
       "1     126.20    5.0  12.50  \n",
       "2      88.70    5.0   4.50  \n",
       "3      88.76    7.0   6.00  \n",
       "4     140.80    5.0  17.74  \n",
       "...      ...    ...    ...  \n",
       "7248  103.60    5.0   5.64  \n",
       "7249  103.60    5.0   5.64  \n",
       "7250   63.10    5.0   5.64  \n",
       "7251  103.60    5.0   5.64  \n",
       "7252  170.00    5.0   5.64  \n",
       "\n",
       "[7251 rows x 12 columns]"
      ]
     },
     "execution_count": 29,
     "metadata": {},
     "output_type": "execute_result"
    }
   ],
   "source": [
    "original = pd.DataFrame(df_join)\n",
    "new=original.assign(Mileage = new_mlge['Standard_Units']) #assign 'mileage' values with standard_units value \n",
    "new"
   ]
  },
  {
   "cell_type": "markdown",
   "id": "5da74909",
   "metadata": {},
   "source": [
    "'Mileage' data are replaced with 'Standard_Units' data "
   ]
  },
  {
   "cell_type": "code",
   "execution_count": 30,
   "id": "c620d5f0",
   "metadata": {
    "scrolled": true
   },
   "outputs": [
    {
     "data": {
      "text/html": [
       "<div>\n",
       "<style scoped>\n",
       "    .dataframe tbody tr th:only-of-type {\n",
       "        vertical-align: middle;\n",
       "    }\n",
       "\n",
       "    .dataframe tbody tr th {\n",
       "        vertical-align: top;\n",
       "    }\n",
       "\n",
       "    .dataframe thead th {\n",
       "        text-align: right;\n",
       "    }\n",
       "</style>\n",
       "<table border=\"1\" class=\"dataframe\">\n",
       "  <thead>\n",
       "    <tr style=\"text-align: right;\">\n",
       "      <th></th>\n",
       "      <th>Year</th>\n",
       "      <th>Kilometers_Driven</th>\n",
       "      <th>Mileage</th>\n",
       "      <th>Engine</th>\n",
       "      <th>Power</th>\n",
       "      <th>Seats</th>\n",
       "      <th>Price</th>\n",
       "    </tr>\n",
       "  </thead>\n",
       "  <tbody>\n",
       "    <tr>\n",
       "      <th>count</th>\n",
       "      <td>7251.000000</td>\n",
       "      <td>7.251000e+03</td>\n",
       "      <td>7251.000000</td>\n",
       "      <td>7251.000000</td>\n",
       "      <td>7251.000000</td>\n",
       "      <td>7251.000000</td>\n",
       "      <td>7251.000000</td>\n",
       "    </tr>\n",
       "    <tr>\n",
       "      <th>mean</th>\n",
       "      <td>2013.365329</td>\n",
       "      <td>5.870229e+04</td>\n",
       "      <td>7.604968</td>\n",
       "      <td>1615.977520</td>\n",
       "      <td>112.327704</td>\n",
       "      <td>5.278444</td>\n",
       "      <td>8.825118</td>\n",
       "    </tr>\n",
       "    <tr>\n",
       "      <th>std</th>\n",
       "      <td>3.254604</td>\n",
       "      <td>8.443913e+04</td>\n",
       "      <td>2.049158</td>\n",
       "      <td>593.276241</td>\n",
       "      <td>52.921237</td>\n",
       "      <td>0.806766</td>\n",
       "      <td>10.294513</td>\n",
       "    </tr>\n",
       "    <tr>\n",
       "      <th>min</th>\n",
       "      <td>1996.000000</td>\n",
       "      <td>1.710000e+02</td>\n",
       "      <td>0.000000</td>\n",
       "      <td>624.000000</td>\n",
       "      <td>34.200000</td>\n",
       "      <td>2.000000</td>\n",
       "      <td>0.440000</td>\n",
       "    </tr>\n",
       "    <tr>\n",
       "      <th>25%</th>\n",
       "      <td>2011.000000</td>\n",
       "      <td>3.400000e+04</td>\n",
       "      <td>6.417500</td>\n",
       "      <td>1198.000000</td>\n",
       "      <td>77.500000</td>\n",
       "      <td>5.000000</td>\n",
       "      <td>3.850000</td>\n",
       "    </tr>\n",
       "    <tr>\n",
       "      <th>50%</th>\n",
       "      <td>2014.000000</td>\n",
       "      <td>5.344200e+04</td>\n",
       "      <td>7.675500</td>\n",
       "      <td>1493.000000</td>\n",
       "      <td>94.000000</td>\n",
       "      <td>5.000000</td>\n",
       "      <td>5.640000</td>\n",
       "    </tr>\n",
       "    <tr>\n",
       "      <th>75%</th>\n",
       "      <td>2016.000000</td>\n",
       "      <td>7.300000e+04</td>\n",
       "      <td>8.891000</td>\n",
       "      <td>1968.000000</td>\n",
       "      <td>138.030000</td>\n",
       "      <td>5.000000</td>\n",
       "      <td>8.400000</td>\n",
       "    </tr>\n",
       "    <tr>\n",
       "      <th>max</th>\n",
       "      <td>2019.000000</td>\n",
       "      <td>6.500000e+06</td>\n",
       "      <td>12.070000</td>\n",
       "      <td>5998.000000</td>\n",
       "      <td>616.000000</td>\n",
       "      <td>10.000000</td>\n",
       "      <td>160.000000</td>\n",
       "    </tr>\n",
       "  </tbody>\n",
       "</table>\n",
       "</div>"
      ],
      "text/plain": [
       "              Year  Kilometers_Driven      Mileage       Engine        Power  \\\n",
       "count  7251.000000       7.251000e+03  7251.000000  7251.000000  7251.000000   \n",
       "mean   2013.365329       5.870229e+04     7.604968  1615.977520   112.327704   \n",
       "std       3.254604       8.443913e+04     2.049158   593.276241    52.921237   \n",
       "min    1996.000000       1.710000e+02     0.000000   624.000000    34.200000   \n",
       "25%    2011.000000       3.400000e+04     6.417500  1198.000000    77.500000   \n",
       "50%    2014.000000       5.344200e+04     7.675500  1493.000000    94.000000   \n",
       "75%    2016.000000       7.300000e+04     8.891000  1968.000000   138.030000   \n",
       "max    2019.000000       6.500000e+06    12.070000  5998.000000   616.000000   \n",
       "\n",
       "             Seats        Price  \n",
       "count  7251.000000  7251.000000  \n",
       "mean      5.278444     8.825118  \n",
       "std       0.806766    10.294513  \n",
       "min       2.000000     0.440000  \n",
       "25%       5.000000     3.850000  \n",
       "50%       5.000000     5.640000  \n",
       "75%       5.000000     8.400000  \n",
       "max      10.000000   160.000000  "
      ]
     },
     "execution_count": 30,
     "metadata": {},
     "output_type": "execute_result"
    }
   ],
   "source": [
    "new.describe() "
   ]
  },
  {
   "cell_type": "markdown",
   "id": "091f88df",
   "metadata": {},
   "source": [
    "The number of final information after data pre-processing looks a bit different than the first information but it doesnt seem that far off.Therefore, can say that data are cleansed precisely"
   ]
  },
  {
   "cell_type": "markdown",
   "id": "1a293f83",
   "metadata": {},
   "source": [
    "# Exploratory Data Analysis"
   ]
  },
  {
   "cell_type": "markdown",
   "id": "96084e05",
   "metadata": {},
   "source": [
    "### Univariate Analysis"
   ]
  },
  {
   "cell_type": "markdown",
   "id": "af0ac191",
   "metadata": {},
   "source": [
    "##### 1. Kilometers_Driven"
   ]
  },
  {
   "cell_type": "code",
   "execution_count": null,
   "id": "9a7384d0",
   "metadata": {},
   "outputs": [],
   "source": [
    "plt.figure(figsize=(15,7)) #set graph size\n",
    "sns.histplot(data=new, x=\"Kilometers_Driven\", log_scale=True, element=\"step\", fill=False) #draw histplot with 'kilometers_driven' in a log scale, with transparent look.\n",
    "plt.title('Kilometers_Driven Spread'); #set title name\n",
    "plt.xlabel('Kilometers_Driven',labelpad=15); #x-axis's label \n",
    "plt.ylabel('Total number of Km driven', labelpad=15); #y-axis's label"
   ]
  },
  {
   "cell_type": "markdown",
   "id": "f74ca087",
   "metadata": {},
   "source": [
    "- The graph seems like it distributed evenly because the it's a centered bell,but it is center-focused graph \n",
    "- The majority of used cars were driven mostly in between 100k to 1000k "
   ]
  },
  {
   "cell_type": "markdown",
   "id": "d3a3354d",
   "metadata": {},
   "source": [
    "##### 2. Engine"
   ]
  },
  {
   "cell_type": "code",
   "execution_count": null,
   "id": "a0e3f5c4",
   "metadata": {},
   "outputs": [],
   "source": [
    "#engine\n",
    "plt.hist(new['Engine'], bins=5, color='gray', edgecolor= 'black'); #draw histplot with 'engine'\n",
    "plt.title(\"Engine Distribution\"); #set title name\n",
    "plt.xlabel('Engine',labelpad=15); #label x-axis\n",
    "plt.ylabel('Total number of Engine', labelpad=15); #label y-axis"
   ]
  },
  {
   "cell_type": "markdown",
   "id": "af390269",
   "metadata": {},
   "source": [
    "- The graph is right skewed \n",
    "- The highest range of used car's engine is around 1000CC. "
   ]
  },
  {
   "cell_type": "markdown",
   "id": "88252b01",
   "metadata": {},
   "source": [
    "##### 3. Power"
   ]
  },
  {
   "cell_type": "code",
   "execution_count": null,
   "id": "91c9ff62",
   "metadata": {},
   "outputs": [],
   "source": [
    "#Power\n",
    "plt.hist(new['Power'], bins=10, color='gray', edgecolor= 'black'); #draw histplot with 'Power'\n",
    "plt.title(\"Power Distribution\");#set title name\n",
    "plt.xlabel('Power',labelpad=15);#label x-axis\n",
    "plt.ylabel('Total number of Power', labelpad=15); #label y-axis"
   ]
  },
  {
   "cell_type": "markdown",
   "id": "090ba6a3",
   "metadata": {},
   "source": [
    "- The graph is right skewed\n",
    "- The highest range of power is in between 50~100 pbh. Most of used car has low horsepower"
   ]
  },
  {
   "cell_type": "markdown",
   "id": "64625297",
   "metadata": {},
   "source": [
    "##### 4. Price"
   ]
  },
  {
   "cell_type": "code",
   "execution_count": null,
   "id": "318f8c05",
   "metadata": {},
   "outputs": [],
   "source": [
    "#Price \n",
    "plt.hist(new['Price'], bins=5, color='gray', edgecolor= 'black'); #draw histplot with 'Price'\n",
    "plt.title(\"Price Distribution\");#set title name\n",
    "plt.xlabel('Price',labelpad=15); #label x-axis\n",
    "plt.ylabel('Total number of Price', labelpad=15); #label y-axis"
   ]
  },
  {
   "cell_type": "markdown",
   "id": "b12c7176",
   "metadata": {},
   "source": [
    "- The graph is right skewed \n",
    "- Most of used car's price range is from 1~30 Lakhs. Most of used cars were sold in silmilar price range "
   ]
  },
  {
   "cell_type": "markdown",
   "id": "c0fbd53f",
   "metadata": {},
   "source": [
    "##### 5. Name"
   ]
  },
  {
   "cell_type": "code",
   "execution_count": null,
   "id": "f7b3de18",
   "metadata": {},
   "outputs": [],
   "source": [
    "# top model sold\n",
    "countplot, x= plt.subplots(figsize = (10,7))\n",
    "x=sns.countplot(data=new, x='Name', palette=\"Paired\", #draw countplot with only top 5 variables in 'Name'\n",
    "              order=new.Name.value_counts().iloc[:5].index)\n",
    "for num in x.patches:\n",
    "    x.text (num.get_x() + num.get_width()  / 2,num.get_height()+ 0.75,num.get_height(),\n",
    "            horizontalalignment='center', fontsize = 11)\n",
    "plt.show()"
   ]
  },
  {
   "cell_type": "markdown",
   "id": "ea3dc353",
   "metadata": {},
   "source": [
    "- The total number of used car model that's on the market is Mahindra XUV500 W8"
   ]
  },
  {
   "cell_type": "markdown",
   "id": "ff5182bb",
   "metadata": {},
   "source": [
    "##### 6. Year"
   ]
  },
  {
   "cell_type": "code",
   "execution_count": null,
   "id": "dd74b3ce",
   "metadata": {},
   "outputs": [],
   "source": [
    "# most yr of car sold\n",
    "countplot, x= plt.subplots(figsize = (10,7))\n",
    "x=sns.countplot(data=new, x='Year', palette=\"Paired\", #draw countplot with only top 5 variables in 'Year' \n",
    "                order=new.Year.value_counts().iloc[:5].index)\n",
    "\n",
    "for num in x.patches:\n",
    "    x.text (num.get_x() + num.get_width()  / 2,num.get_height()+ 0.75,num.get_height(), #show the each count of x-variables\n",
    "            horizontalalignment='center', fontsize = 11) \n",
    "plt.show()"
   ]
  },
  {
   "cell_type": "markdown",
   "id": "c3995386",
   "metadata": {},
   "source": [
    "- The used car models are mostly manufactured in 2015 \n",
    "- The range of top 5's manufactured yr is between 2013~2017. Most of used cars were made pretty recently "
   ]
  },
  {
   "cell_type": "markdown",
   "id": "9a247827",
   "metadata": {},
   "source": [
    "##### 7. Transmission"
   ]
  },
  {
   "cell_type": "code",
   "execution_count": null,
   "id": "beeb65c9",
   "metadata": {},
   "outputs": [],
   "source": [
    "# transmission\n",
    "countplot, x= plt.subplots(figsize = (10,7))\n",
    "x=sns.countplot(data=new, x='Transmission', palette=\"Paired\") #draw countplot with 'Transmission'\n",
    "\n",
    "for num in x.patches:\n",
    "    x.text (num.get_x() + num.get_width()  / 2,num.get_height()+ 0.75,num.get_height(),\n",
    "            horizontalalignment='center', fontsize = 11)\n",
    "plt.show()"
   ]
  },
  {
   "cell_type": "markdown",
   "id": "ea2e0e5b",
   "metadata": {},
   "source": [
    "- Most of used cars have manual transmission "
   ]
  },
  {
   "cell_type": "markdown",
   "id": "852d694a",
   "metadata": {},
   "source": [
    "##### 8. Location"
   ]
  },
  {
   "cell_type": "code",
   "execution_count": null,
   "id": "b5a6794d",
   "metadata": {},
   "outputs": [],
   "source": [
    "#Location\n",
    "countplot, x= plt.subplots(figsize = (10,7))\n",
    "x=sns.countplot(data=new, x='Location', palette=\"Paired\", order = new['Location'].value_counts().index)\n",
    "\n",
    "for num in x.patches:\n",
    "    x.text (num.get_x() + num.get_width()  / 2,num.get_height()+ 0.75,num.get_height(),\n",
    "            horizontalalignment='center', fontsize = 11)\n",
    "plt.show()"
   ]
  },
  {
   "cell_type": "markdown",
   "id": "df6ea520",
   "metadata": {},
   "source": [
    "- Most of cars are sold in Mumbai and Hyderabad\n",
    "- Least of cars are sold in Ahmedabad"
   ]
  },
  {
   "cell_type": "markdown",
   "id": "5d560b35",
   "metadata": {},
   "source": [
    "##### 9. Seats"
   ]
  },
  {
   "cell_type": "code",
   "execution_count": null,
   "id": "d50750f2",
   "metadata": {},
   "outputs": [],
   "source": [
    "#seats\n",
    "countplot, x= plt.subplots(figsize = (10,7))\n",
    "x=sns.countplot(data=new, x='Seats', palette=\"Paired\", order = new['Seats'].value_counts().index) #draw countplot with 'Seats' \n",
    "\n",
    "for num in x.patches:\n",
    "    x.text (num.get_x() + num.get_width()  / 2,num.get_height()+ 0.75,num.get_height(),\n",
    "            horizontalalignment='center', fontsize = 11)\n",
    "plt.show()"
   ]
  },
  {
   "cell_type": "markdown",
   "id": "d2901830",
   "metadata": {},
   "source": [
    "- Most of used cars have 5 seats\n",
    "- There are few used cars that has more than 8 seats. There are few people who buys large suv or van  "
   ]
  },
  {
   "cell_type": "markdown",
   "id": "f4c6941f",
   "metadata": {},
   "source": [
    "##### 10. Fuel Type"
   ]
  },
  {
   "cell_type": "code",
   "execution_count": null,
   "id": "47d815ea",
   "metadata": {},
   "outputs": [],
   "source": [
    "#fuel type\n",
    "countplot, x= plt.subplots(figsize = (10,7))\n",
    "x=sns.countplot(data=new, x='Fuel_Type', palette=\"Paired\", order = new['Fuel_Type'].value_counts().index) #draw countplot with 'Fuel_Type'\n",
    "\n",
    "for num in x.patches:\n",
    "    x.text (num.get_x() + num.get_width()  / 2,num.get_height()+ 0.75,num.get_height(),\n",
    "            horizontalalignment='center', fontsize = 11)\n",
    "plt.show()"
   ]
  },
  {
   "cell_type": "markdown",
   "id": "d016455d",
   "metadata": {},
   "source": [
    "- Most of used cars' fuel type is diesel\n",
    "- There a high number of petrol fuel type\n",
    "- The least is LPG"
   ]
  },
  {
   "cell_type": "markdown",
   "id": "5cc6676d",
   "metadata": {},
   "source": [
    "##### 11. Owner_Type"
   ]
  },
  {
   "cell_type": "code",
   "execution_count": null,
   "id": "3e1b603b",
   "metadata": {},
   "outputs": [],
   "source": [
    "#Owner_Type\n",
    "countplot, x= plt.subplots(figsize = (10,7))\n",
    "x=sns.countplot(data=new, x='Owner_Type', palette=\"Paired\", order = new['Owner_Type'].value_counts().index) #draw countplot with 'Owner_type'\n",
    "\n",
    "for num in x.patches:\n",
    "    x.text (num.get_x() + num.get_width()  / 2,num.get_height()+ 0.75,num.get_height(),\n",
    "            horizontalalignment='center', fontsize = 11)\n",
    "plt.show()"
   ]
  },
  {
   "cell_type": "markdown",
   "id": "03a212af",
   "metadata": {},
   "source": [
    "- Most of used cars had at least one owner before "
   ]
  },
  {
   "cell_type": "markdown",
   "id": "9da6a979",
   "metadata": {},
   "source": [
    "### Bivariate Analysis"
   ]
  },
  {
   "cell_type": "markdown",
   "id": "892312fd",
   "metadata": {},
   "source": [
    "### Correlation "
   ]
  },
  {
   "cell_type": "code",
   "execution_count": null,
   "id": "53ef9770",
   "metadata": {},
   "outputs": [],
   "source": [
    "plt.figure(figsize=(15, 7))\n",
    "sns.heatmap(new.corr(), annot=True, vmin=-1, vmax=1, fmt=\".2f\") #draw heatmap that shows corr\n",
    "plt.show()"
   ]
  },
  {
   "cell_type": "markdown",
   "id": "b842cfb0",
   "metadata": {},
   "source": [
    "- There is the highest correlation between 'Engine' and 'Power'\n",
    "- Also there's high relationships bewteen 'Price'vs'Power' and 'Price'vs'Engine'\n",
    "- Most of correlations are close to '0' and there are few negative correlations mostly related with 'Mileage'"
   ]
  },
  {
   "cell_type": "markdown",
   "id": "b744a484",
   "metadata": {},
   "source": [
    "Q1: what is the most bought yrs, location by model name "
   ]
  },
  {
   "cell_type": "code",
   "execution_count": null,
   "id": "9a2eeb03",
   "metadata": {},
   "outputs": [],
   "source": [
    "sns.catplot(data=new, x='Mileage', y='Price', col='Fuel_Type', hue='Year', kind='strip');"
   ]
  },
  {
   "cell_type": "code",
   "execution_count": null,
   "id": "6bd5ec35",
   "metadata": {},
   "outputs": [],
   "source": [
    "x =sns.catplot(x='Year', y='Price', data=new,\n",
    "                estimator=sum, col='Location', kind=\"point\",\n",
    "                height=3,col_wrap = 5)\n",
    "x.set_xticklabels(rotation=90)\n",
    "plt.show()"
   ]
  },
  {
   "cell_type": "markdown",
   "id": "dd672057",
   "metadata": {},
   "source": [
    "Q3:if km_driven value is high, used car price is sold cheaper "
   ]
  },
  {
   "cell_type": "code",
   "execution_count": null,
   "id": "7b1c47df",
   "metadata": {},
   "outputs": [],
   "source": [
    "plt.figure(figsize=(15, 7))\n",
    "sns.pointplot(x='Year', y='Price', data=new, estimator=sum, ci=None)\n",
    "plt.xticks(rotation=90) # To rotate the x axis labls\n",
    "plt.show()"
   ]
  },
  {
   "cell_type": "code",
   "execution_count": 31,
   "id": "d3b4d108",
   "metadata": {},
   "outputs": [],
   "source": [
    "#correlation"
   ]
  },
  {
   "cell_type": "code",
   "execution_count": null,
   "id": "a8ea4d99",
   "metadata": {},
   "outputs": [],
   "source": [
    "sns.pairplot(data=new, hue=\"Transmission\", diag_kind=\"kde\")\n",
    "plt.show()"
   ]
  },
  {
   "cell_type": "code",
   "execution_count": null,
   "id": "639218e4",
   "metadata": {},
   "outputs": [],
   "source": []
  },
  {
   "cell_type": "markdown",
   "id": "06566039",
   "metadata": {},
   "source": [
    "#price vs power (positive corr)\n",
    "plt.figure(figsize=(15, 7))\n",
    "sns.histplot(new, x=\"Power\", y=\"Price\",\n",
    "    bins=5, discrete=(True, False), log_scale=(False, True),\n",
    "    cbar=True);"
   ]
  },
  {
   "cell_type": "markdown",
   "id": "0ab24b17",
   "metadata": {},
   "source": [
    "### Model building"
   ]
  },
  {
   "cell_type": "markdown",
   "id": "3d4ec2ac",
   "metadata": {},
   "source": [
    "##### Define dependent and independent variables"
   ]
  },
  {
   "cell_type": "code",
   "execution_count": 32,
   "id": "2341bb40",
   "metadata": {},
   "outputs": [],
   "source": [
    "X = new.drop([\"Price\"], axis=1)\n",
    "y = new[\"Price\"]"
   ]
  },
  {
   "cell_type": "markdown",
   "id": "62ee9d68",
   "metadata": {},
   "source": [
    "##### Create dummies"
   ]
  },
  {
   "cell_type": "code",
   "execution_count": 33,
   "id": "121d1ee2",
   "metadata": {
    "scrolled": true
   },
   "outputs": [
    {
     "data": {
      "text/html": [
       "<div>\n",
       "<style scoped>\n",
       "    .dataframe tbody tr th:only-of-type {\n",
       "        vertical-align: middle;\n",
       "    }\n",
       "\n",
       "    .dataframe tbody tr th {\n",
       "        vertical-align: top;\n",
       "    }\n",
       "\n",
       "    .dataframe thead th {\n",
       "        text-align: right;\n",
       "    }\n",
       "</style>\n",
       "<table border=\"1\" class=\"dataframe\">\n",
       "  <thead>\n",
       "    <tr style=\"text-align: right;\">\n",
       "      <th></th>\n",
       "      <th>Year</th>\n",
       "      <th>Kilometers_Driven</th>\n",
       "      <th>Mileage</th>\n",
       "      <th>Engine</th>\n",
       "      <th>Power</th>\n",
       "      <th>Seats</th>\n",
       "      <th>Name_Audi A3 35 TDI Attraction</th>\n",
       "      <th>Name_Audi A3 35 TDI Premium</th>\n",
       "      <th>Name_Audi A3 35 TDI Premium Plus</th>\n",
       "      <th>Name_Audi A3 35 TDI Technology</th>\n",
       "      <th>...</th>\n",
       "      <th>Location_Kolkata</th>\n",
       "      <th>Location_Mumbai</th>\n",
       "      <th>Location_Pune</th>\n",
       "      <th>Fuel_Type_Diesel</th>\n",
       "      <th>Fuel_Type_LPG</th>\n",
       "      <th>Fuel_Type_Petrol</th>\n",
       "      <th>Transmission_Manual</th>\n",
       "      <th>Owner_Type_Fourth &amp; Above</th>\n",
       "      <th>Owner_Type_Second</th>\n",
       "      <th>Owner_Type_Third</th>\n",
       "    </tr>\n",
       "  </thead>\n",
       "  <tbody>\n",
       "    <tr>\n",
       "      <th>0</th>\n",
       "      <td>2010</td>\n",
       "      <td>72000</td>\n",
       "      <td>0.044422</td>\n",
       "      <td>998.0</td>\n",
       "      <td>58.16</td>\n",
       "      <td>5.0</td>\n",
       "      <td>0</td>\n",
       "      <td>0</td>\n",
       "      <td>0</td>\n",
       "      <td>0</td>\n",
       "      <td>...</td>\n",
       "      <td>0</td>\n",
       "      <td>1</td>\n",
       "      <td>0</td>\n",
       "      <td>0</td>\n",
       "      <td>0</td>\n",
       "      <td>0</td>\n",
       "      <td>1</td>\n",
       "      <td>0</td>\n",
       "      <td>0</td>\n",
       "      <td>0</td>\n",
       "    </tr>\n",
       "    <tr>\n",
       "      <th>1</th>\n",
       "      <td>2015</td>\n",
       "      <td>41000</td>\n",
       "      <td>8.359750</td>\n",
       "      <td>1582.0</td>\n",
       "      <td>126.20</td>\n",
       "      <td>5.0</td>\n",
       "      <td>0</td>\n",
       "      <td>0</td>\n",
       "      <td>0</td>\n",
       "      <td>0</td>\n",
       "      <td>...</td>\n",
       "      <td>0</td>\n",
       "      <td>0</td>\n",
       "      <td>1</td>\n",
       "      <td>1</td>\n",
       "      <td>0</td>\n",
       "      <td>0</td>\n",
       "      <td>1</td>\n",
       "      <td>0</td>\n",
       "      <td>0</td>\n",
       "      <td>0</td>\n",
       "    </tr>\n",
       "    <tr>\n",
       "      <th>2</th>\n",
       "      <td>2011</td>\n",
       "      <td>46000</td>\n",
       "      <td>7.735000</td>\n",
       "      <td>1199.0</td>\n",
       "      <td>88.70</td>\n",
       "      <td>5.0</td>\n",
       "      <td>0</td>\n",
       "      <td>0</td>\n",
       "      <td>0</td>\n",
       "      <td>0</td>\n",
       "      <td>...</td>\n",
       "      <td>0</td>\n",
       "      <td>0</td>\n",
       "      <td>0</td>\n",
       "      <td>0</td>\n",
       "      <td>0</td>\n",
       "      <td>1</td>\n",
       "      <td>1</td>\n",
       "      <td>0</td>\n",
       "      <td>0</td>\n",
       "      <td>0</td>\n",
       "    </tr>\n",
       "    <tr>\n",
       "      <th>3</th>\n",
       "      <td>2012</td>\n",
       "      <td>87000</td>\n",
       "      <td>8.827250</td>\n",
       "      <td>1248.0</td>\n",
       "      <td>88.76</td>\n",
       "      <td>7.0</td>\n",
       "      <td>0</td>\n",
       "      <td>0</td>\n",
       "      <td>0</td>\n",
       "      <td>0</td>\n",
       "      <td>...</td>\n",
       "      <td>0</td>\n",
       "      <td>0</td>\n",
       "      <td>0</td>\n",
       "      <td>1</td>\n",
       "      <td>0</td>\n",
       "      <td>0</td>\n",
       "      <td>1</td>\n",
       "      <td>0</td>\n",
       "      <td>0</td>\n",
       "      <td>0</td>\n",
       "    </tr>\n",
       "    <tr>\n",
       "      <th>4</th>\n",
       "      <td>2013</td>\n",
       "      <td>40670</td>\n",
       "      <td>6.460000</td>\n",
       "      <td>1968.0</td>\n",
       "      <td>140.80</td>\n",
       "      <td>5.0</td>\n",
       "      <td>0</td>\n",
       "      <td>0</td>\n",
       "      <td>0</td>\n",
       "      <td>0</td>\n",
       "      <td>...</td>\n",
       "      <td>0</td>\n",
       "      <td>0</td>\n",
       "      <td>0</td>\n",
       "      <td>1</td>\n",
       "      <td>0</td>\n",
       "      <td>0</td>\n",
       "      <td>0</td>\n",
       "      <td>0</td>\n",
       "      <td>1</td>\n",
       "      <td>0</td>\n",
       "    </tr>\n",
       "  </tbody>\n",
       "</table>\n",
       "<p>5 rows × 2061 columns</p>\n",
       "</div>"
      ],
      "text/plain": [
       "   Year  Kilometers_Driven   Mileage  Engine   Power  Seats  \\\n",
       "0  2010              72000  0.044422   998.0   58.16    5.0   \n",
       "1  2015              41000  8.359750  1582.0  126.20    5.0   \n",
       "2  2011              46000  7.735000  1199.0   88.70    5.0   \n",
       "3  2012              87000  8.827250  1248.0   88.76    7.0   \n",
       "4  2013              40670  6.460000  1968.0  140.80    5.0   \n",
       "\n",
       "   Name_Audi A3 35 TDI Attraction  Name_Audi A3 35 TDI Premium  \\\n",
       "0                               0                            0   \n",
       "1                               0                            0   \n",
       "2                               0                            0   \n",
       "3                               0                            0   \n",
       "4                               0                            0   \n",
       "\n",
       "   Name_Audi A3 35 TDI Premium Plus  Name_Audi A3 35 TDI Technology  ...  \\\n",
       "0                                 0                               0  ...   \n",
       "1                                 0                               0  ...   \n",
       "2                                 0                               0  ...   \n",
       "3                                 0                               0  ...   \n",
       "4                                 0                               0  ...   \n",
       "\n",
       "   Location_Kolkata  Location_Mumbai  Location_Pune  Fuel_Type_Diesel  \\\n",
       "0                 0                1              0                 0   \n",
       "1                 0                0              1                 1   \n",
       "2                 0                0              0                 0   \n",
       "3                 0                0              0                 1   \n",
       "4                 0                0              0                 1   \n",
       "\n",
       "   Fuel_Type_LPG  Fuel_Type_Petrol  Transmission_Manual  \\\n",
       "0              0                 0                    1   \n",
       "1              0                 0                    1   \n",
       "2              0                 1                    1   \n",
       "3              0                 0                    1   \n",
       "4              0                 0                    0   \n",
       "\n",
       "   Owner_Type_Fourth & Above  Owner_Type_Second  Owner_Type_Third  \n",
       "0                          0                  0                 0  \n",
       "1                          0                  0                 0  \n",
       "2                          0                  0                 0  \n",
       "3                          0                  0                 0  \n",
       "4                          0                  1                 0  \n",
       "\n",
       "[5 rows x 2061 columns]"
      ]
     },
     "execution_count": 33,
     "metadata": {},
     "output_type": "execute_result"
    }
   ],
   "source": [
    "X = pd.get_dummies(\n",
    "    X,\n",
    "    columns=X.select_dtypes(include=[\"object\", \"category\"]).columns.tolist(), #create dummies including object and category variables in one-hot coding\n",
    "    drop_first=True,\n",
    ")\n",
    "X.head()"
   ]
  },
  {
   "cell_type": "code",
   "execution_count": 34,
   "id": "8dd3276b",
   "metadata": {},
   "outputs": [
    {
     "data": {
      "text/plain": [
       "(7251, 2061)"
      ]
     },
     "execution_count": 34,
     "metadata": {},
     "output_type": "execute_result"
    }
   ],
   "source": [
    "X.shape"
   ]
  },
  {
   "cell_type": "markdown",
   "id": "f5d9f9bb",
   "metadata": {},
   "source": [
    "There are 7251 rows and 2061 columns"
   ]
  },
  {
   "cell_type": "markdown",
   "id": "70401099",
   "metadata": {},
   "source": [
    "##### Split data into train and test data"
   ]
  },
  {
   "cell_type": "code",
   "execution_count": 35,
   "id": "51dc4c7f",
   "metadata": {},
   "outputs": [],
   "source": [
    "x_train, x_test, y_train, y_test = train_test_split(X, y, test_size=0.3, random_state=1)"
   ]
  },
  {
   "cell_type": "code",
   "execution_count": 36,
   "id": "716f0bc4",
   "metadata": {
    "scrolled": true
   },
   "outputs": [
    {
     "name": "stdout",
     "output_type": "stream",
     "text": [
      "5075\n",
      "2176\n"
     ]
    }
   ],
   "source": [
    "print(x_train.shape[0])\n",
    "print(x_test.shape[0])"
   ]
  },
  {
   "cell_type": "markdown",
   "id": "7c215f41",
   "metadata": {},
   "source": [
    "There are 5075 rows in train data\n",
    "\n",
    "There are 2176 rows in test data"
   ]
  },
  {
   "cell_type": "markdown",
   "id": "e607cb6d",
   "metadata": {},
   "source": [
    "##### Fitting linear regression model"
   ]
  },
  {
   "cell_type": "code",
   "execution_count": 37,
   "id": "f8e1848b",
   "metadata": {},
   "outputs": [
    {
     "data": {
      "text/plain": [
       "LinearRegression()"
      ]
     },
     "execution_count": 37,
     "metadata": {},
     "output_type": "execute_result"
    }
   ],
   "source": [
    "lin_reg_model = LinearRegression()\n",
    "lin_reg_model.fit(x_train, y_train)"
   ]
  },
  {
   "cell_type": "markdown",
   "id": "21956031",
   "metadata": {},
   "source": [
    "##### Check coefficients and intercepts"
   ]
  },
  {
   "cell_type": "code",
   "execution_count": 38,
   "id": "fc69b6b2",
   "metadata": {},
   "outputs": [
    {
     "data": {
      "text/html": [
       "<div>\n",
       "<style scoped>\n",
       "    .dataframe tbody tr th:only-of-type {\n",
       "        vertical-align: middle;\n",
       "    }\n",
       "\n",
       "    .dataframe tbody tr th {\n",
       "        vertical-align: top;\n",
       "    }\n",
       "\n",
       "    .dataframe thead th {\n",
       "        text-align: right;\n",
       "    }\n",
       "</style>\n",
       "<table border=\"1\" class=\"dataframe\">\n",
       "  <thead>\n",
       "    <tr style=\"text-align: right;\">\n",
       "      <th></th>\n",
       "      <th>Coefficients</th>\n",
       "    </tr>\n",
       "  </thead>\n",
       "  <tbody>\n",
       "    <tr>\n",
       "      <th>Year</th>\n",
       "      <td>7.702832e-01</td>\n",
       "    </tr>\n",
       "    <tr>\n",
       "      <th>Kilometers_Driven</th>\n",
       "      <td>-9.838262e-06</td>\n",
       "    </tr>\n",
       "    <tr>\n",
       "      <th>Mileage</th>\n",
       "      <td>-1.496096e-01</td>\n",
       "    </tr>\n",
       "    <tr>\n",
       "      <th>Engine</th>\n",
       "      <td>3.191610e-03</td>\n",
       "    </tr>\n",
       "    <tr>\n",
       "      <th>Power</th>\n",
       "      <td>5.263045e-02</td>\n",
       "    </tr>\n",
       "    <tr>\n",
       "      <th>...</th>\n",
       "      <td>...</td>\n",
       "    </tr>\n",
       "    <tr>\n",
       "      <th>Transmission_Manual</th>\n",
       "      <td>-5.334624e+07</td>\n",
       "    </tr>\n",
       "    <tr>\n",
       "      <th>Owner_Type_Fourth &amp; Above</th>\n",
       "      <td>6.171762e-01</td>\n",
       "    </tr>\n",
       "    <tr>\n",
       "      <th>Owner_Type_Second</th>\n",
       "      <td>-2.613286e-01</td>\n",
       "    </tr>\n",
       "    <tr>\n",
       "      <th>Owner_Type_Third</th>\n",
       "      <td>-1.608301e-01</td>\n",
       "    </tr>\n",
       "    <tr>\n",
       "      <th>Intercept</th>\n",
       "      <td>4.726870e+08</td>\n",
       "    </tr>\n",
       "  </tbody>\n",
       "</table>\n",
       "<p>2062 rows × 1 columns</p>\n",
       "</div>"
      ],
      "text/plain": [
       "                           Coefficients\n",
       "Year                       7.702832e-01\n",
       "Kilometers_Driven         -9.838262e-06\n",
       "Mileage                   -1.496096e-01\n",
       "Engine                     3.191610e-03\n",
       "Power                      5.263045e-02\n",
       "...                                 ...\n",
       "Transmission_Manual       -5.334624e+07\n",
       "Owner_Type_Fourth & Above  6.171762e-01\n",
       "Owner_Type_Second         -2.613286e-01\n",
       "Owner_Type_Third          -1.608301e-01\n",
       "Intercept                  4.726870e+08\n",
       "\n",
       "[2062 rows x 1 columns]"
      ]
     },
     "execution_count": 38,
     "metadata": {},
     "output_type": "execute_result"
    }
   ],
   "source": [
    "coef_df = pd.DataFrame(\n",
    "    np.append(lin_reg_model.coef_, lin_reg_model.intercept_),\n",
    "    index=x_train.columns.tolist() + [\"Intercept\"],\n",
    "    columns=[\"Coefficients\"],\n",
    ")\n",
    "coef_df"
   ]
  },
  {
   "cell_type": "markdown",
   "id": "07820bba",
   "metadata": {},
   "source": [
    "### Coefficient Interpretations\n",
    "\n",
    "* Coefficients of *Year*, *Engine*, *Power*, etc. are positive.\n",
    "    - Increase in these will lead to an increase in the price of an used car.\n",
    "\n",
    "\n",
    "* Coefficients of *Kilometers_Driven*, *Mileage*, *Transmission_Manual*, etc. columns are negative.\n",
    "    - Increase in these will lead to a decrease in the price of an used car."
   ]
  },
  {
   "cell_type": "markdown",
   "id": "2bc41f03",
   "metadata": {},
   "source": [
    "### Model performance evaluation"
   ]
  },
  {
   "cell_type": "code",
   "execution_count": 39,
   "id": "80a89a18",
   "metadata": {},
   "outputs": [],
   "source": [
    "# function to compute adjusted R-squared\n",
    "def adj_r2_score(predictors, targets, predictions):\n",
    "    r2 = r2_score(targets, predictions)\n",
    "    n = predictors.shape[0]\n",
    "    k = predictors.shape[1]\n",
    "    return 1 - ((1 - r2) * (n - 1) / (n - k - 1))\n",
    "\n",
    "\n",
    "# function to compute MAPE\n",
    "def mape_score(targets, predictions):\n",
    "    return np.mean(np.abs(targets - predictions) / targets) * 100\n",
    "\n",
    "\n",
    "# function to compute different metrics to check performance of a regression model\n",
    "def model_performance_regression(model, predictors, target):\n",
    "    \"\"\"\n",
    "    Function to compute different metrics to check regression model performance\n",
    "\n",
    "    model: regressor\n",
    "    predictors: independent variables\n",
    "    target: dependent variable\n",
    "    \"\"\"\n",
    "\n",
    "    # predicting using the independent variables\n",
    "    pred = model.predict(predictors)\n",
    "\n",
    "    r2 = r2_score(target, pred)  # to compute R-squared\n",
    "    adjr2 = adj_r2_score(predictors, target, pred)  # to compute adjusted R-squared\n",
    "    rmse = np.sqrt(mean_squared_error(target, pred))  # to compute RMSE\n",
    "    mae = mean_absolute_error(target, pred)  # to compute MAE\n",
    "    mape = mape_score(target, pred)  # to compute MAPE\n",
    "\n",
    "    # creating a dataframe of metrics\n",
    "    df_perf = pd.DataFrame(\n",
    "        {\n",
    "            \"RMSE\": rmse,\n",
    "            \"MAE\": mae,\n",
    "            \"R-squared\": r2,\n",
    "            \"Adj. R-squared\": adjr2,\n",
    "            \"MAPE\": mape,\n",
    "        },\n",
    "        index=[0],\n",
    "    )\n",
    "\n",
    "    return df_perf"
   ]
  },
  {
   "cell_type": "markdown",
   "id": "8301b776",
   "metadata": {},
   "source": [
    "##### - Training Performance"
   ]
  },
  {
   "cell_type": "code",
   "execution_count": 40,
   "id": "ed0f63dd",
   "metadata": {
    "scrolled": true
   },
   "outputs": [
    {
     "data": {
      "text/html": [
       "<div>\n",
       "<style scoped>\n",
       "    .dataframe tbody tr th:only-of-type {\n",
       "        vertical-align: middle;\n",
       "    }\n",
       "\n",
       "    .dataframe tbody tr th {\n",
       "        vertical-align: top;\n",
       "    }\n",
       "\n",
       "    .dataframe thead th {\n",
       "        text-align: right;\n",
       "    }\n",
       "</style>\n",
       "<table border=\"1\" class=\"dataframe\">\n",
       "  <thead>\n",
       "    <tr style=\"text-align: right;\">\n",
       "      <th></th>\n",
       "      <th>RMSE</th>\n",
       "      <th>MAE</th>\n",
       "      <th>R-squared</th>\n",
       "      <th>Adj. R-squared</th>\n",
       "      <th>MAPE</th>\n",
       "    </tr>\n",
       "  </thead>\n",
       "  <tbody>\n",
       "    <tr>\n",
       "      <th>0</th>\n",
       "      <td>3.453979</td>\n",
       "      <td>1.552273</td>\n",
       "      <td>0.884054</td>\n",
       "      <td>0.804743</td>\n",
       "      <td>23.610849</td>\n",
       "    </tr>\n",
       "  </tbody>\n",
       "</table>\n",
       "</div>"
      ],
      "text/plain": [
       "       RMSE       MAE  R-squared  Adj. R-squared       MAPE\n",
       "0  3.453979  1.552273   0.884054        0.804743  23.610849"
      ]
     },
     "execution_count": 40,
     "metadata": {},
     "output_type": "execute_result"
    }
   ],
   "source": [
    "# Checking model performance on train set\n",
    "lin_reg_model_train_perf = model_performance_regression(lin_reg_model, x_train, y_train)\n",
    "lin_reg_model_train_perf"
   ]
  },
  {
   "cell_type": "markdown",
   "id": "aed2fa57",
   "metadata": {},
   "source": [
    "##### - Test Performance"
   ]
  },
  {
   "cell_type": "code",
   "execution_count": 41,
   "id": "58c7b3f5",
   "metadata": {
    "scrolled": true
   },
   "outputs": [
    {
     "data": {
      "text/html": [
       "<div>\n",
       "<style scoped>\n",
       "    .dataframe tbody tr th:only-of-type {\n",
       "        vertical-align: middle;\n",
       "    }\n",
       "\n",
       "    .dataframe tbody tr th {\n",
       "        vertical-align: top;\n",
       "    }\n",
       "\n",
       "    .dataframe thead th {\n",
       "        text-align: right;\n",
       "    }\n",
       "</style>\n",
       "<table border=\"1\" class=\"dataframe\">\n",
       "  <thead>\n",
       "    <tr style=\"text-align: right;\">\n",
       "      <th></th>\n",
       "      <th>RMSE</th>\n",
       "      <th>MAE</th>\n",
       "      <th>R-squared</th>\n",
       "      <th>Adj. R-squared</th>\n",
       "      <th>MAPE</th>\n",
       "    </tr>\n",
       "  </thead>\n",
       "  <tbody>\n",
       "    <tr>\n",
       "      <th>0</th>\n",
       "      <td>6.126653e+07</td>\n",
       "      <td>8.273102e+06</td>\n",
       "      <td>-3.318898e+13</td>\n",
       "      <td>-6.332108e+14</td>\n",
       "      <td>1.068595e+08</td>\n",
       "    </tr>\n",
       "  </tbody>\n",
       "</table>\n",
       "</div>"
      ],
      "text/plain": [
       "           RMSE           MAE     R-squared  Adj. R-squared          MAPE\n",
       "0  6.126653e+07  8.273102e+06 -3.318898e+13   -6.332108e+14  1.068595e+08"
      ]
     },
     "execution_count": 41,
     "metadata": {},
     "output_type": "execute_result"
    }
   ],
   "source": [
    "# Checking model performance on test set\n",
    "lin_reg_model_test_perf = model_performance_regression(lin_reg_model, x_test, y_test)\n",
    "lin_reg_model_test_perf"
   ]
  },
  {
   "cell_type": "markdown",
   "id": "ee53e9f7",
   "metadata": {},
   "source": [
    "- The train $R^2$ is 0.804 which indicates that the model explains 80% of the total variation in the train set.\n",
    "\n",
    "- The test $R^2$ shows negative(-6.332) which can be interpreted as either a) the initial model was poorly designed, b) there are too many predictors c) no predictive values \n",
    "\n",
    "- RMSE values on the train and test sets are also not comparable. There's a huge gap between train and test's RMSE\n",
    "\n",
    "- This shows that the model is overfitting.\n",
    "\n",
    "- MAE indicates that our current model is able to predict prices within a mean error of 8.273\n",
    "\n",
    "- MAPE of 1.068 on the test data means that we are able to predict within 10.7% of the used car price.\n",
    "\n",
    "The overall, test set needs adjustments for comparible performance between train and test "
   ]
  },
  {
   "cell_type": "markdown",
   "id": "35464c28",
   "metadata": {},
   "source": [
    "### Feature Selection"
   ]
  },
  {
   "cell_type": "markdown",
   "id": "2ddea827",
   "metadata": {},
   "source": [
    "##### Build SFS and perfrom SFS"
   ]
  },
  {
   "cell_type": "code",
   "execution_count": null,
   "id": "c766b7d9",
   "metadata": {
    "scrolled": true
   },
   "outputs": [
    {
     "name": "stdout",
     "output_type": "stream",
     "text": [
      "Requirement already satisfied: mlxtend in c:\\users\\sue hong\\anaconda3\\lib\\site-packages (0.18.0)\n",
      "Requirement already satisfied: numpy>=1.16.2 in c:\\users\\sue hong\\anaconda3\\lib\\site-packages (from mlxtend) (1.20.1)\n",
      "Requirement already satisfied: scikit-learn>=0.20.3 in c:\\users\\sue hong\\anaconda3\\lib\\site-packages (from mlxtend) (0.24.1)\n",
      "Requirement already satisfied: matplotlib>=3.0.0 in c:\\users\\sue hong\\anaconda3\\lib\\site-packages (from mlxtend) (3.3.4)\n",
      "Requirement already satisfied: joblib>=0.13.2 in c:\\users\\sue hong\\anaconda3\\lib\\site-packages (from mlxtend) (1.0.1)\n",
      "Requirement already satisfied: setuptools in c:\\users\\sue hong\\anaconda3\\lib\\site-packages (from mlxtend) (52.0.0.post20210125)\n",
      "Requirement already satisfied: pandas>=0.24.2 in c:\\users\\sue hong\\anaconda3\\lib\\site-packages (from mlxtend) (1.2.4)\n",
      "Requirement already satisfied: scipy>=1.2.1 in c:\\users\\sue hong\\anaconda3\\lib\\site-packages (from mlxtend) (1.6.2)\n",
      "Requirement already satisfied: pillow>=6.2.0 in c:\\users\\sue hong\\anaconda3\\lib\\site-packages (from matplotlib>=3.0.0->mlxtend) (8.2.0)\n",
      "Requirement already satisfied: python-dateutil>=2.1 in c:\\users\\sue hong\\anaconda3\\lib\\site-packages (from matplotlib>=3.0.0->mlxtend) (2.8.1)\n",
      "Requirement already satisfied: cycler>=0.10 in c:\\users\\sue hong\\anaconda3\\lib\\site-packages (from matplotlib>=3.0.0->mlxtend) (0.10.0)\n",
      "Requirement already satisfied: kiwisolver>=1.0.1 in c:\\users\\sue hong\\anaconda3\\lib\\site-packages (from matplotlib>=3.0.0->mlxtend) (1.3.1)\n",
      "Requirement already satisfied: pyparsing!=2.0.4,!=2.1.2,!=2.1.6,>=2.0.3 in c:\\users\\sue hong\\anaconda3\\lib\\site-packages (from matplotlib>=3.0.0->mlxtend) (2.4.7)\n",
      "Requirement already satisfied: six in c:\\users\\sue hong\\anaconda3\\lib\\site-packages (from cycler>=0.10->matplotlib>=3.0.0->mlxtend) (1.15.0)\n",
      "Requirement already satisfied: pytz>=2017.3 in c:\\users\\sue hong\\anaconda3\\lib\\site-packages (from pandas>=0.24.2->mlxtend) (2021.1)\n",
      "Requirement already satisfied: threadpoolctl>=2.0.0 in c:\\users\\sue hong\\anaconda3\\lib\\site-packages (from scikit-learn>=0.20.3->mlxtend) (2.1.0)\n"
     ]
    }
   ],
   "source": [
    "!pip install mlxtend\n",
    "from mlxtend.feature_selection import SequentialFeatureSelector as SFS\n",
    "\n",
    "reg = LinearRegression()\n",
    "\n",
    "# Build step forward feature selection\n",
    "sfs = SFS(\n",
    "    reg,\n",
    "    k_features=x_train.shape[1],\n",
    "    forward=True,  # k_features denotes the number of features to select\n",
    "    floating=False,\n",
    "    scoring=\"r2\",\n",
    "    n_jobs=-1,  # n_jobs=-1 means all processor cores will be used\n",
    "    verbose=0,\n",
    "    cv=5,\n",
    ")\n",
    "\n",
    "# Perform SFFS\n",
    "sfs = sfs.fit(x_train, y_train)"
   ]
  },
  {
   "cell_type": "markdown",
   "id": "5db65107",
   "metadata": {},
   "source": [
    "##### Perform SFS feature"
   ]
  },
  {
   "cell_type": "code",
   "execution_count": 2,
   "id": "24fd9b1f",
   "metadata": {},
   "outputs": [
    {
     "ename": "NameError",
     "evalue": "name 'sfs' is not defined",
     "output_type": "error",
     "traceback": [
      "\u001b[1;31m---------------------------------------------------------------------------\u001b[0m",
      "\u001b[1;31mNameError\u001b[0m                                 Traceback (most recent call last)",
      "\u001b[1;32m<ipython-input-2-593204607f94>\u001b[0m in \u001b[0;36m<module>\u001b[1;34m\u001b[0m\n\u001b[0;32m      2\u001b[0m \u001b[1;32mfrom\u001b[0m \u001b[0mmlxtend\u001b[0m\u001b[1;33m.\u001b[0m\u001b[0mplotting\u001b[0m \u001b[1;32mimport\u001b[0m \u001b[0mplot_sequential_feature_selection\u001b[0m \u001b[1;32mas\u001b[0m \u001b[0mplot_sfs\u001b[0m\u001b[1;33m\u001b[0m\u001b[1;33m\u001b[0m\u001b[0m\n\u001b[0;32m      3\u001b[0m \u001b[1;33m\u001b[0m\u001b[0m\n\u001b[1;32m----> 4\u001b[1;33m \u001b[0mfig1\u001b[0m \u001b[1;33m=\u001b[0m \u001b[0mplot_sfs\u001b[0m\u001b[1;33m(\u001b[0m\u001b[0msfs\u001b[0m\u001b[1;33m.\u001b[0m\u001b[0mget_metric_dict\u001b[0m\u001b[1;33m(\u001b[0m\u001b[1;33m)\u001b[0m\u001b[1;33m,\u001b[0m \u001b[0mkind\u001b[0m\u001b[1;33m=\u001b[0m\u001b[1;34m\"std_err\"\u001b[0m\u001b[1;33m,\u001b[0m \u001b[0mfigsize\u001b[0m\u001b[1;33m=\u001b[0m\u001b[1;33m(\u001b[0m\u001b[1;36m15\u001b[0m\u001b[1;33m,\u001b[0m \u001b[1;36m5\u001b[0m\u001b[1;33m)\u001b[0m\u001b[1;33m)\u001b[0m\u001b[1;33m\u001b[0m\u001b[1;33m\u001b[0m\u001b[0m\n\u001b[0m\u001b[0;32m      5\u001b[0m \u001b[0mplt\u001b[0m\u001b[1;33m.\u001b[0m\u001b[0mtitle\u001b[0m\u001b[1;33m(\u001b[0m\u001b[1;34m\"Sequential Forward Selection (w. StdErr)\"\u001b[0m\u001b[1;33m)\u001b[0m\u001b[1;33m\u001b[0m\u001b[1;33m\u001b[0m\u001b[0m\n\u001b[0;32m      6\u001b[0m \u001b[0mplt\u001b[0m\u001b[1;33m.\u001b[0m\u001b[0mxticks\u001b[0m\u001b[1;33m(\u001b[0m\u001b[0mrotation\u001b[0m\u001b[1;33m=\u001b[0m\u001b[1;36m90\u001b[0m\u001b[1;33m)\u001b[0m\u001b[1;33m\u001b[0m\u001b[1;33m\u001b[0m\u001b[0m\n",
      "\u001b[1;31mNameError\u001b[0m: name 'sfs' is not defined"
     ]
    }
   ],
   "source": [
    "# to plot the performance with addition of each feature\n",
    "from mlxtend.plotting import plot_sequential_feature_selection as plot_sfs\n",
    "\n",
    "fig1 = plot_sfs(sfs.get_metric_dict(), kind=\"std_err\", figsize=(15, 5))\n",
    "plt.title(\"Sequential Forward Selection (w. StdErr)\")\n",
    "plt.xticks(rotation=90)\n",
    "plt.show()"
   ]
  },
  {
   "cell_type": "markdown",
   "id": "890f732d",
   "metadata": {},
   "source": [
    "##### Build SFF selection"
   ]
  },
  {
   "cell_type": "code",
   "execution_count": null,
   "id": "ce9cfce5",
   "metadata": {},
   "outputs": [],
   "source": [
    "reg = LinearRegression()\n",
    "\n",
    "# Build step forward feature selection\n",
    "sfs = SFS(\n",
    "    reg,\n",
    "    k_features=30,\n",
    "    forward=True,\n",
    "    floating=False,\n",
    "    scoring=\"r2\",\n",
    "    n_jobs=-1,\n",
    "    verbose=2,\n",
    "    cv=5,\n",
    ")\n",
    "\n",
    "# Perform SFFS\n",
    "sfs = sfs.fit(x_train, y_train)"
   ]
  },
  {
   "cell_type": "code",
   "execution_count": null,
   "id": "cf1c3cfb",
   "metadata": {},
   "outputs": [],
   "source": [
    "#select the features which are important\n",
    "feat_cols = list(sfs.k_feature_idx_)\n",
    "print(feat_cols)"
   ]
  },
  {
   "cell_type": "code",
   "execution_count": null,
   "id": "71a82ea7",
   "metadata": {},
   "outputs": [],
   "source": [
    "# print the names of the important features\n",
    "x_train.columns[feat_cols]"
   ]
  },
  {
   "cell_type": "code",
   "execution_count": null,
   "id": "9ed77a86",
   "metadata": {},
   "outputs": [],
   "source": [
    "x_train_final = x_train[x_train.columns[feat_cols]]"
   ]
  },
  {
   "cell_type": "markdown",
   "id": "74d78fc5",
   "metadata": {},
   "source": [
    "##### Create new x_test variable from x_train"
   ]
  },
  {
   "cell_type": "code",
   "execution_count": null,
   "id": "5116a16b",
   "metadata": {},
   "outputs": [],
   "source": [
    "# Creating new x_test with the same variables that we selected for x_train\n",
    "x_test_final = x_test[x_train_final.columns]"
   ]
  },
  {
   "cell_type": "markdown",
   "id": "208ad93c",
   "metadata": {},
   "source": [
    "##### - Train set performance"
   ]
  },
  {
   "cell_type": "code",
   "execution_count": null,
   "id": "63a9c4db",
   "metadata": {},
   "outputs": [],
   "source": [
    "# model performance on train set\n",
    "lin_reg_model2_train_perf = model_performance_regression(\n",
    "    lin_reg_model2, x_train_final, y_train\n",
    ")\n",
    "lin_reg_model2_train_perf"
   ]
  },
  {
   "cell_type": "markdown",
   "id": "7536e94a",
   "metadata": {},
   "source": [
    "##### - Test set performance"
   ]
  },
  {
   "cell_type": "code",
   "execution_count": null,
   "id": "010b6e66",
   "metadata": {},
   "outputs": [],
   "source": [
    "# model performance on test set\n",
    "lin_reg_model2_test_perf = model_performance_regression(\n",
    "    lin_reg_model2, x_test_final, y_test\n",
    ")\n",
    "lin_reg_model2_test_perf"
   ]
  },
  {
   "cell_type": "markdown",
   "id": "10e40e3a",
   "metadata": {},
   "source": [
    "##### Compare training performances"
   ]
  },
  {
   "cell_type": "code",
   "execution_count": null,
   "id": "efa386ca",
   "metadata": {},
   "outputs": [],
   "source": [
    "# training performance comparison\n",
    "\n",
    "models_train_comp_df = pd.concat(\n",
    "    [lin_reg_model_train_perf.T, lin_reg_model2_train_perf.T], #concate previous train model and new model \n",
    "    axis=1,\n",
    ")\n",
    "\n",
    "models_train_comp_df.columns = [ #comepare two org LR and SFS features\n",
    "    \"Linear Regression sklearn\",\n",
    "    \"Linear Regression sklearn (SFS features)\",\n",
    "]\n",
    "\n",
    "print(\"Training performance comparison:\")\n",
    "models_train_comp_df"
   ]
  },
  {
   "cell_type": "markdown",
   "id": "abd09b81",
   "metadata": {},
   "source": [
    "##### Compare testing performances"
   ]
  },
  {
   "cell_type": "code",
   "execution_count": null,
   "id": "a362facf",
   "metadata": {},
   "outputs": [],
   "source": [
    "# test performance comparison\n",
    "\n",
    "models_test_comp_df = pd.concat(\n",
    "    [lin_reg_model_test_perf.T, lin_reg_model2_test_perf.T], #concate previous train model and new model\n",
    "    axis=1,\n",
    ")\n",
    "\n",
    "models_test_comp_df.columns = [  #comepare two org LR and SFS features\n",
    "    \"Linear Regression sklearn\",\n",
    "    \"Linear Regression sklearn (SFS features)\",\n",
    "]\n",
    "\n",
    "print(\"Test performance comparison:\")\n",
    "models_test_comp_df"
   ]
  },
  {
   "cell_type": "markdown",
   "id": "621176d0",
   "metadata": {},
   "source": [
    "### Conclusion"
   ]
  },
  {
   "cell_type": "markdown",
   "id": "7963ed77",
   "metadata": {},
   "source": [
    "- Build a predictive model that can be used by used car buyers to predict the market price of used car models with an R2 of 0.80 on the training set\n",
    "- Found out that the  are some of the factors which tend to increase the price of the used car\n",
    "- As the value of Mileage and Kilometer_driven goes higher, the price of used car tends to decrease. They are some of the factors which tend to decrease the market price of used cars\n",
    "- We can also explore improving the linear model by applying non-linear transformations to some of the attributes. This might help us better identify the patterns in the data to predict the price of used car more accurately"
   ]
  }
 ],
 "metadata": {
  "kernelspec": {
   "display_name": "Python 3",
   "language": "python",
   "name": "python3"
  },
  "language_info": {
   "codemirror_mode": {
    "name": "ipython",
    "version": 3
   },
   "file_extension": ".py",
   "mimetype": "text/x-python",
   "name": "python",
   "nbconvert_exporter": "python",
   "pygments_lexer": "ipython3",
   "version": "3.8.8"
  }
 },
 "nbformat": 4,
 "nbformat_minor": 5
}
